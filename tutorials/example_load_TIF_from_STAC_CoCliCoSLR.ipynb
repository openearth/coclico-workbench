{
 "cells": [
  {
   "cell_type": "markdown",
   "metadata": {},
   "source": [
    "# Import"
   ]
  },
  {
   "cell_type": "code",
   "execution_count": null,
   "metadata": {},
   "outputs": [],
   "source": [
    "import warnings\n",
    "\n",
    "# import holoviews as hv\n",
    "import cartopy.crs as ccrs\n",
    "import cartopy.feature as cf\n",
    "import matplotlib.pyplot as plt\n",
    "import matplotlib.ticker as tck\n",
    "import numpy as np\n",
    "import shapely\n",
    "import pandas as pd\n",
    "import pystac_client\n",
    "import xarray as xr\n",
    "import rioxarray as rio\n",
    "import pathlib\n",
    "\n",
    "#import colormaps as cmaps\n",
    "import pyam # https://pyam-iamc.readthedocs.io/en/latest/index.html\n",
    "import matplotlib.colors as mcolors\n",
    "\n",
    "from copy import deepcopy\n",
    "from typing import List, Dict\n",
    "\n",
    "# ignore warnings\n",
    "warnings.filterwarnings(\"ignore\")"
   ]
  },
  {
   "cell_type": "markdown",
   "metadata": {},
   "source": []
  },
  {
   "cell_type": "markdown",
   "metadata": {},
   "source": [
    "# CoCliCo Stac catalog"
   ]
  },
  {
   "cell_type": "code",
   "execution_count": null,
   "metadata": {},
   "outputs": [],
   "source": [
    "# load the CoCliCo STAC catalog\n",
    "catalog = pystac_client.Client.open(\n",
    "    \"https://storage.googleapis.com/coclico-data-public/coclico/coclico-stac/catalog.json\"\n",
    ")\n",
    "# catalog\n",
    "\n",
    "# list the datasets present in the catalog, we are interested in the slp5 and slp6 sets\n",
    "list(catalog.get_children())"
   ]
  },
  {
   "cell_type": "markdown",
   "metadata": {},
   "source": [
    "# Define parameter"
   ]
  },
  {
   "cell_type": "markdown",
   "metadata": {},
   "source": [
    "1- Parameters selected by the user"
   ]
  },
  {
   "cell_type": "code",
   "execution_count": null,
   "metadata": {},
   "outputs": [],
   "source": [
    "#toggles\n",
    "yr = 2100  # set year\n",
    "ccs = \"ssp245\"  # set climate change scenario "
   ]
  },
  {
   "cell_type": "markdown",
   "metadata": {},
   "source": [
    "2- Default parameters"
   ]
  },
  {
   "cell_type": "code",
   "execution_count": null,
   "metadata": {},
   "outputs": [],
   "source": [
    "#the var to be shown on the map is always the median (i.e. msl_m) except for the high_end\n",
    "var = \"msl_m\" \n",
    "if ccs == \"high_end\":\n",
    "    var = \"msl_h\""
   ]
  },
  {
   "cell_type": "markdown",
   "metadata": {},
   "source": [
    "# Filter datasets"
   ]
  },
  {
   "cell_type": "code",
   "execution_count": null,
   "metadata": {},
   "outputs": [],
   "source": [
    "# define function(s)\n",
    "\n",
    "# function to put items in dataframe\n",
    "def items_to_dataframe(items: List[Dict]) -> pd.DataFrame:\n",
    "    \"\"\"STAC items to Pandas dataframe.\n",
    "\n",
    "    Args:\n",
    "        items (List[Dict]): _description_\n",
    "\n",
    "    Returns:\n",
    "        pd.DataFrame: _description_\n",
    "    \"\"\"\n",
    "    _items = []\n",
    "    for i in items:\n",
    "        _i = deepcopy(i)\n",
    "        # _i['geometry'] = shape(_i['geometry'])\n",
    "        # ...  # for example, drop some attributes that you're not interested in\n",
    "        _items.append(_i)\n",
    "    df = pd.DataFrame(pd.json_normalize(_items))\n",
    "    # for field in [\"properties.datetime\"]:\n",
    "    #     if field in df:\n",
    "    #         df[field] = pd.to_datetime(df[field])\n",
    "    # df = df.sort_values(\"properties.datetime\")\n",
    "    return df\n",
    "\n",
    "# CoCliCo SLR, takes a while +/- 6 min\n",
    "msl_col = catalog.get_child(\"slp\")\n",
    "items_msl = list(msl_col.get_items()) # this is slow as we need to list all items\n",
    "items_msl_df = items_to_dataframe([i.to_dict() for i in items_msl])"
   ]
  },
  {
   "cell_type": "code",
   "execution_count": null,
   "metadata": {},
   "outputs": [],
   "source": [
    "# define variables\n",
    "key_list = [\"CCS\", \"YRS\", \"QTL\"]\n",
    "fil_idx = []\n",
    "msl_dict = {key: [] for key in key_list}\n",
    "for idx, i in enumerate(items_msl_df.id):\n",
    "    qtl_here = str(i).split(\"\\\\\")[1]\n",
    "    yrs_here = int(i.split(\"\\\\\")[2][0:4])-1\n",
    "    ccs_here = str(i).split(\"\\\\\")[0]\n",
    "    msl_dict[\"CCS\"].append(ccs_here)\n",
    "    msl_dict[\"YRS\"].append(yrs_here)\n",
    "    msl_dict[\"QTL\"].append(qtl_here)\n",
    "    fil_idx.append(idx)"
   ]
  },
  {
   "cell_type": "markdown",
   "metadata": {},
   "source": [
    "# Select raster to be displayed"
   ]
  },
  {
   "cell_type": "code",
   "execution_count": null,
   "metadata": {},
   "outputs": [],
   "source": [
    "for i in items_msl:\n",
    "    if i.id == r\"%s\\%s\\%s.tif\" % (ccs, var, yr+1):\n",
    "        msl_item_href = i.assets[\"data\"].href\n",
    "\n",
    "msl_item = rio.open_rasterio(msl_item_href, masked=True)\n",
    "\n",
    "# cbar limits\n",
    "vmin = -0.2\n",
    "vmax = np.nanmax(msl_item)\n",
    "\n",
    "# colormap\n",
    "cwd = pathlib.Path().resolve().parent\n",
    "slev_divl = np.loadtxt(str(pathlib.Path.joinpath(cwd, r\"src/coclico/colormaps/slev_div.txt\")))\n",
    "slev_div = mcolors.LinearSegmentedColormap.from_list('slev_div', slev_divl/255)    "
   ]
  },
  {
   "cell_type": "markdown",
   "metadata": {},
   "source": [
    "# Geospatial Plot"
   ]
  },
  {
   "cell_type": "code",
   "execution_count": null,
   "metadata": {},
   "outputs": [],
   "source": [
    "%matplotlib ipympl\n",
    "# %matplotlib inline\n",
    "\n",
    "# TODO: make plots with holoviews iso matplotlib\n",
    "# TODO: zoom with ipyleaflet and converted bbox to this plot?\n",
    "# TODO: zoom to same extent (sharex, sharey does not work properly) when selecting a boundings box in ipympl\n",
    "\n",
    "# define figure\n",
    "fig, (ax1) = plt.subplots(\n",
    "    1, figsize=(13, 4), subplot_kw={\"projection\": ccrs.PlateCarree()}\n",
    ")  # , sharex=True, sharey=True)\n",
    "fig.tight_layout()\n",
    "# plt.gcf().subplots_adjust(bottom=0.05)\n",
    "plt.gcf().subplots_adjust(left=0.05)\n",
    "\n",
    "# populate MSL plot\n",
    "ax1.set_facecolor((1.0, 0.0, 1.0, 0.5)) \n",
    "im = msl_item.plot(\n",
    "    ax=ax1,\n",
    "    add_colorbar=False,\n",
    "    vmin=-0.2, #round(vmin, 2),\n",
    "    vmax=2, #round(vmax, 2),\n",
    "    cmap=slev_div,\n",
    ")\n",
    "ax1.set_title(\"%s \\nRCP%s, %s, median\" % (msl_col.title, ccs, yr))\n",
    "# ax1.set_xlabel(\"Longitude [Degrees East]\") # TODO: possibly import from file?\n",
    "# ax1.set_ylabel(\"Latitude [Degrees North]\") # TODO: possibly import from file?\n",
    "cbar = plt.colorbar(im, shrink=0.675, aspect=30 * 0.675, pad=0.02)\n",
    "cbar.set_label(\n",
    "   \"sea level rise (%s)\" % msl_col.extra_fields[\"deltares:units\"]\n",
    ")  # TODO: possibly import from file?\n",
    "ax1.add_feature(cf.LAND, facecolor=\"lightgrey\", zorder=15)\n",
    "ax1.add_feature(cf.COASTLINE, linewidth=0.2, zorder=16)\n",
    "ax1.add_feature(cf.BORDERS, linewidth=0.1, zorder=16)\n",
    "gl1 = ax1.gridlines(\n",
    "    crs=ccrs.PlateCarree(),\n",
    "    draw_labels=True,\n",
    "    linewidth=1,\n",
    "    color=\"gray\",\n",
    "    alpha=0.2,\n",
    "    linestyle=\"--\",\n",
    ")\n",
    "gl1.xlabels_top = False\n",
    "gl1.ylabels_right = False\n",
    "ax1.text(\n",
    "    -0.09,\n",
    "    0.5,\n",
    "    \"latitude (°)\",\n",
    "    va=\"bottom\",\n",
    "    ha=\"center\",\n",
    "    rotation=\"vertical\",\n",
    "    rotation_mode=\"anchor\",\n",
    "    transform=ax1.transAxes,\n",
    ")\n",
    "ax1.text(\n",
    "    0.5,\n",
    "    -0.15,\n",
    "    \"longitude (°)\",\n",
    "    va=\"bottom\",\n",
    "    ha=\"center\",\n",
    "    rotation=\"horizontal\",\n",
    "    rotation_mode=\"anchor\",\n",
    "    transform=ax1.transAxes,\n",
    ")\n"
   ]
  },
  {
   "cell_type": "markdown",
   "metadata": {},
   "source": [
    "# Temporal plot"
   ]
  },
  {
   "cell_type": "code",
   "execution_count": null,
   "metadata": {},
   "outputs": [],
   "source": [
    "# select a point to plot timeseries of SLR projections for\n",
    "point_location = [4.2, 52.8]  # easting, norting\n",
    "point_geom = shapely.Point(point_location)"
   ]
  },
  {
   "cell_type": "code",
   "execution_count": null,
   "metadata": {},
   "outputs": [],
   "source": [
    "# retrieve MSL projections at above-defined location\n",
    "\n",
    "# pre-processing function\n",
    "def preprocess(ds):\n",
    "    point_geom = shapely.Point(point_location)\n",
    "    \n",
    "    ds = (\n",
    "        ds.rio.clip([point_geom])\n",
    "        .sel(x=point_location[0], y=point_location[1], method=\"nearest\")\n",
    "    )\n",
    "\n",
    "    return ds\n",
    "\n",
    "# concat datasets\n",
    "selected_ds = xr.open_mfdataset(\n",
    "    [i.assets[\"data\"].href for i in items_msl],\n",
    "    engine=\"rasterio\",\n",
    "    concat_dim=\"band\",\n",
    "    combine=\"nested\",\n",
    "    preprocess=preprocess,  # this indexes every before merging them\n",
    "    parallel=True, # this is for Dask\n",
    ")\n",
    "\n",
    "msl_dict[\"SLR\"] = selected_ds[\"band_data\"].values\n",
    "df = pd.DataFrame(data=msl_dict)"
   ]
  },
  {
   "cell_type": "code",
   "execution_count": null,
   "metadata": {},
   "outputs": [],
   "source": [
    "%matplotlib ipympl\n",
    "# %matplotlib inline\n",
    "\n",
    "# define figure\n",
    "fig, (ax1) = plt.subplots(1, figsize=(13, 4), sharey=True, sharex=True)\n",
    "fig.tight_layout()\n",
    "plt.gcf().subplots_adjust(bottom=0.15)\n",
    "plt.gcf().subplots_adjust(left=0.05)\n",
    "ax = plt.gca()\n",
    "colors = pyam.plotting.PYAM_COLORS # official color package\n",
    "\n",
    "for idx, (scen, grp) in enumerate(df[df.YRS <= 2100].groupby([\"CCS\"])):\n",
    "    ens_list = list(grp.groupby(\"QTL\"))\n",
    "    ens_list[2][1].plot(\n",
    "        kind=\"line\",\n",
    "        x=\"YRS\",\n",
    "        y=\"SLR\",\n",
    "        label=\"%s (Median & Likely-range)\" % (scen),\n",
    "        #color=colors[\"AR5-RCP-\"+str(scen[0][0:-1]) + \".\" +str(scen[0][-1])],#np.array(colorsAR5[idx])/255,\n",
    "        ax=ax1,\n",
    "        alpha=1.0,\n",
    "    )  # mean 50 percentile\n",
    "    ax1.fill_between(\n",
    "        ens_list[0][1].YRS,\n",
    "        ens_list[1][1].SLR,\n",
    "        ens_list[0][1].SLR,\n",
    "        alpha=0.1,\n",
    "        #color=colors[\"AR5-RCP-\"+str(scen[0][0:-1]) + \".\" +str(scen[0][-1])],#np.array(colorsAR5[idx])/255,\n",
    "        interpolate=True,\n",
    "    )  # 5-95th percentile shading\n",
    "\n",
    "ax1.set_title(\n",
    "    \"CoCliCo MSL projections at location (lon, lat): %s, %s\" % (point_location[0], point_location[1])\n",
    ")\n",
    "ax1.xaxis.set_minor_locator(tck.AutoMinorLocator())\n",
    "ax1.yaxis.set_minor_locator(tck.AutoMinorLocator())\n",
    "ax1.set_xlim(2030, 2100)\n",
    "ax1.grid(alpha=0.2)\n",
    "ax1.set_xlabel(\"time (year)\")\n",
    "ax1.set_ylabel(\"mean sea-level change (m)\")"
   ]
  }
 ],
 "metadata": {
  "kernelspec": {
   "display_name": "Python 3",
   "language": "python",
   "name": "python3"
  },
  "language_info": {
   "codemirror_mode": {
    "name": "ipython",
    "version": 3
   },
   "file_extension": ".py",
   "mimetype": "text/x-python",
   "name": "python",
   "nbconvert_exporter": "python",
   "pygments_lexer": "ipython3",
   "version": "3.12.3"
  }
 },
 "nbformat": 4,
 "nbformat_minor": 2
}
