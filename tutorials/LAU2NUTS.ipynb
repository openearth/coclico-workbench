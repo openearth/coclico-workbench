{
 "cells": [
  {
   "cell_type": "code",
   "execution_count": null,
   "metadata": {},
   "outputs": [],
   "source": [
    "# Import modules\n",
    "\n",
    "import warnings\n",
    "\n",
    "# import holoviews as hv\n",
    "import cartopy.crs as ccrs\n",
    "import cartopy.feature as cf\n",
    "import matplotlib.pyplot as plt\n",
    "import matplotlib.ticker as tck\n",
    "import numpy as np\n",
    "import shapely\n",
    "import pandas as pd\n",
    "import pystac_client\n",
    "import xarray as xr\n",
    "import rioxarray as rio\n",
    "import pathlib\n",
    "from pathlib import Path\n",
    "import pystac\n",
    "import pystac_client\n",
    "import geopandas as gpd\n",
    "\n",
    "#import colormaps as cmaps\n",
    "import pyam # https://pyam-iamc.readthedocs.io/en/latest/index.html\n",
    "import matplotlib.colors as mcolors\n",
    "\n",
    "from copy import deepcopy\n",
    "from typing import List, Dict\n",
    "\n",
    "# Import custom functionality\n",
    "from coclicodata.drive_config import p_drive\n",
    "\n",
    "# ignore warnings\n",
    "warnings.filterwarnings(\"ignore\")"
   ]
  },
  {
   "cell_type": "code",
   "execution_count": null,
   "metadata": {},
   "outputs": [],
   "source": [
    "# Convert NUTS to parquet file\n",
    "\n",
    "fp = Path(r\"p:\\11207608-coclico\\FASTTRACK_DATA\\XX_NUTS\\NUTS_RG_01M_2021_3035.shp\")\n",
    "\n",
    "NUTS_data = gpd.read_file(fp)\n",
    "\n",
    "NL_NUTS = NUTS_data.loc[NUTS_data.CNTR_CODE == 'NL']\n",
    "\n",
    "NL_NUTS"
   ]
  },
  {
   "cell_type": "code",
   "execution_count": null,
   "metadata": {},
   "outputs": [],
   "source": [
    "# Load LAU data\n",
    "\n",
    "fp = Path(r\"p:\\11207608-coclico\\FASTTRACK_DATA\\XX_LAU\\LAU_RG_01M_2020_3035.parquet\")\n",
    "\n",
    "LAU_data = gpd.read_parquet(fp)\n",
    "\n",
    "NL_LAU = LAU_data.loc[LAU_data.CNTR_CODE == 'NL']\n",
    "NL_LAU"
   ]
  },
  {
   "cell_type": "code",
   "execution_count": null,
   "metadata": {},
   "outputs": [],
   "source": [
    "# Match LAU and NUTS using this work: https://edjnet.github.io/lau_centres/lau_nuts.html\n",
    "\n",
    "LAU_NUTS_match = pd.read_csv(r'p:\\11207608-coclico\\FASTTRACK_DATA\\XX_NUTS\\lau_2020_nuts_2021_concordance_by_geo.csv')\n",
    "# Drop unneeded columns\n",
    "LAU_NUTS_match = LAU_NUTS_match.drop(columns=['gisco_id','country','lau_id','lau_name','population','area_km2','year'])\n",
    "LAU_NUTS_match = LAU_NUTS_match.rename(columns={'fid': 'FID'})"
   ]
  },
  {
   "cell_type": "code",
   "execution_count": null,
   "metadata": {},
   "outputs": [],
   "source": [
    "LAU_data"
   ]
  },
  {
   "cell_type": "code",
   "execution_count": null,
   "metadata": {},
   "outputs": [],
   "source": [
    "# Merge the two dataframes\n",
    "LAU_NUTS_data = LAU_data.merge(LAU_NUTS_match,on='FID')\n",
    "\n",
    "# Reorder columns\n",
    "# Retrieve column names\n",
    "cols = LAU_NUTS_data.columns\n",
    "\n",
    "# Move columns\n",
    "cols = cols.insert([2],cols[-2:])\n",
    "\n",
    "# Drop the old ones\n",
    "cols = cols[:-2]\n",
    "\n",
    "# Store in final form\n",
    "LAU_NUTS_data = LAU_NUTS_data[cols]\n",
    "\n",
    "# Write geodataframe to parquet\n",
    "coclico_data_dir = p_drive.joinpath(\"11207608-coclico\", \"FASTTRACK_DATA\")\n",
    "ds_dir = coclico_data_dir.joinpath('XX_LAU')\n",
    "out_file= ds_dir.joinpath('LAU_2020_NUTS_2021_01M_3035.parquet')\n",
    "\n",
    "# altered_lau_data.to_parquet(out_file_altered)\n",
    "LAU_NUTS_data.to_parquet(out_file)\n"
   ]
  },
  {
   "cell_type": "code",
   "execution_count": null,
   "metadata": {},
   "outputs": [],
   "source": [
    "LAU_NUTS_data"
   ]
  }
 ],
 "metadata": {
  "kernelspec": {
   "display_name": "Python 3",
   "language": "python",
   "name": "python3"
  },
  "language_info": {
   "codemirror_mode": {
    "name": "ipython",
    "version": 3
   },
   "file_extension": ".py",
   "mimetype": "text/x-python",
   "name": "python",
   "nbconvert_exporter": "python",
   "pygments_lexer": "ipython3",
   "version": "3.11.4"
  }
 },
 "nbformat": 4,
 "nbformat_minor": 2
}
