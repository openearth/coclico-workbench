{
 "cells": [
  {
   "cell_type": "markdown",
   "id": "0",
   "metadata": {},
   "source": []
  },
  {
   "cell_type": "markdown",
   "id": "1",
   "metadata": {},
   "source": [
    "# Spatial aggregation by level"
   ]
  },
  {
   "cell_type": "markdown",
   "id": "2",
   "metadata": {},
   "source": [
    "This notebook allows to compile the results of the person exposed building exposed and cost platform on a larger scale (nuts2 nuts1)"
   ]
  },
  {
   "cell_type": "markdown",
   "id": "3",
   "metadata": {},
   "source": [
    "## gives the results on a larger scale"
   ]
  },
  {
   "cell_type": "markdown",
   "id": "4",
   "metadata": {},
   "source": [
    "### install the libraries"
   ]
  },
  {
   "cell_type": "code",
   "execution_count": null,
   "id": "5",
   "metadata": {},
   "outputs": [],
   "source": [
    "import pandas as pd\n",
    "import os\n",
    "from urllib.parse import urlparse\n",
    "import requests"
   ]
  },
  {
   "cell_type": "markdown",
   "id": "6",
   "metadata": {},
   "source": [
    "What information are you looking for?"
   ]
  },
  {
   "cell_type": "code",
   "execution_count": null,
   "id": "7",
   "metadata": {},
   "outputs": [],
   "source": [
    "value_type = \"population\"# The possible values are population, number or cost\n",
    "nuts_value = \"FRL0\"\n",
    "year = \"2100\"# The possible values are 2010 , 2030, 2050, 2100\n",
    "rp=\"100\"# The possible values are static, 1, 100 or 1000\n",
    "defense=\"HIGH_DEFENDED\" # The possible values are HIGH_DEFENDED, LOW_DEFENDED or UNDEFENDED\n",
    "ssp=\"SSP126\" # The possible values are SSP126, SSP245 or SSP585"
   ]
  },
  {
   "cell_type": "code",
   "execution_count": null,
   "id": "8",
   "metadata": {},
   "outputs": [],
   "source": [
    "def validate_inputs(year, rp, defense, ssp):\n",
    "    valid_years = {\"2010\", \"2030\", \"2050\", \"2100\"}\n",
    "    valid_rps = {\"static\", \"1\", \"100\", \"1000\"}\n",
    "    valid_defenses = {\"HIGH_DEFENDED\", \"LOW_DEFENDED\", \"UNDEFENDED\"}\n",
    "    valid_ssps = {\"SSP126\", \"SSP245\", \"SSP585\"}\n",
    "    errors = []\n",
    "    if year not in valid_years:\n",
    "        errors.append(f\"Invalid year: {year}. Must be one of {sorted(valid_years)}.\")\n",
    "    if rp not in valid_rps:\n",
    "        errors.append(f\"Invalid return period (rp): {rp}. Must be one of {sorted(valid_rps)}.\")\n",
    "    if defense not in valid_defenses:\n",
    "        errors.append(f\"Invalid defense level: {defense}. Must be one of {sorted(valid_defenses)}.\")\n",
    "    if ssp not in valid_ssps:\n",
    "        errors.append(f\"Invalid SSP scenario: {ssp}. Must be one of {sorted(valid_ssps)}.\")\n",
    "    if errors:\n",
    "        raise ValueError(\"\\n\".join(errors))\n",
    "validate_inputs(year, rp, defense, ssp)"
   ]
  },
  {
   "cell_type": "markdown",
   "id": "9",
   "metadata": {},
   "source": [
    "connection to the catalog and download of the file"
   ]
  },
  {
   "cell_type": "code",
   "execution_count": null,
   "id": "10",
   "metadata": {},
   "outputs": [],
   "source": [
    "\n",
    "defense=defense+\"_MAPS\"\n",
    "\n",
    "if value_type == \"population\":\n",
    "    path=\"https://storage.googleapis.com/coclico-data-public/coclico/pp_stats/map_stats/\"+defense+\"/\"+rp+\"/\"+ssp+\"/pop_stats_\"+defense+\"_\"+rp+\"_\"+ssp+\"_\"+year+\".parquet\"\n",
    "    local_path = \"CoCliCo_data/people.parquet\"\n",
    "    response = requests.get(path)\n",
    "    with open(local_path, \"wb\") as f:\n",
    "        f.write(response.content)\n",
    "    colum=\"abs_affected\"\n",
    "elif value_type == \"number\":\n",
    "    path=\"https://storage.googleapis.com/coclico-data-public/coclico/be_stats/map_stats/\"+defense+\"/\"+rp+\"/\"+ssp+\"/be_stats_\"+defense+\"_\"+rp+\"_\"+ssp+\"_\"+year+\".parquet\"\n",
    "    local_path = \"CoCliCo_data/number.parquet\"\n",
    "    response = requests.get(path)\n",
    "    with open(local_path, \"wb\") as f:\n",
    "        f.write(response.content)  \n",
    "    colum=\"abs_affected\"  \n",
    "       \n",
    "elif value_type == \"cost\":\n",
    "    path = \"https://storage.googleapis.com/coclico-data-public/coclico/bc_stats/bc_stats.parquet\"\n",
    "    local_path = \"CoCliCo_data/cost.parquet\"\n",
    "    response = requests.get(path)\n",
    "    with open(local_path, \"wb\") as f:\n",
    "        f.write(response.content)\n",
    "    colum=defense+\"\\\\\"+rp+\"\\\\\"+ssp+\"\\\\\"+year+\"\\\\buildings\"\n",
    "else:\n",
    "    raise ValueError(f\"Unknown value_type '{value_type}'\")\n"
   ]
  },
  {
   "cell_type": "markdown",
   "id": "11",
   "metadata": {},
   "source": [
    "defines what scale is requested"
   ]
  },
  {
   "cell_type": "code",
   "execution_count": null,
   "id": "12",
   "metadata": {},
   "outputs": [],
   "source": [
    "def detect_scale(code, df):\n",
    "    if code in df['CNTR_CODE'].values:\n",
    "        return 'CNTR_CODE'\n",
    "    elif code in df['nuts_2'].values:\n",
    "        return 'nuts_2'\n",
    "    elif code in df['nuts_3'].values:\n",
    "        return 'nuts_3'\n",
    "    else:\n",
    "        return 'unknown'\n"
   ]
  },
  {
   "cell_type": "code",
   "execution_count": null,
   "id": "13",
   "metadata": {},
   "outputs": [],
   "source": [
    "df=pd.read_parquet(local_path)\n",
    "scale=detect_scale(nuts_value,df)\n",
    "filtered = df[df[scale] == nuts_value]\n",
    "summary = filtered.groupby(scale)[colum].sum().reset_index()\n",
    "\n",
    "print(summary)"
   ]
  }
 ],
 "metadata": {
  "kernelspec": {
   "display_name": "coclicopost",
   "language": "python",
   "name": "python3"
  },
  "language_info": {
   "codemirror_mode": {
    "name": "ipython",
    "version": 3
   },
   "file_extension": ".py",
   "mimetype": "text/x-python",
   "name": "python",
   "nbconvert_exporter": "python",
   "pygments_lexer": "ipython3",
   "version": "3.12.11"
  }
 },
 "nbformat": 4,
 "nbformat_minor": 5
}
