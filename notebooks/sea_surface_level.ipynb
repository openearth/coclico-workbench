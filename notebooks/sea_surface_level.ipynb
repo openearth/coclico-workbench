{
 "cells": [
  {
   "cell_type": "markdown",
   "metadata": {
    "id": "ERB8szds229i"
   },
   "source": [
    "# CoCliCo --- Orléans Notebook Demonstration (October 2022)\n",
    "\n",
    "Coastal Climate Core Services is an European effort to develop an opean web-platform to aid decision making on coastal risk (2021 - 2025). Please have a look at our website to find out more about the project: https://coclicoservices.eu/\n",
    "\n",
    "During this project several datasets will be made available, which can be explored on the platform as well as accessed via cloud-storage buckets. In this notebook, some examples are provided on how to interact with the data using Python. \n",
    "\n",
    "- Notebook author: Floris Calkoen & Etiënne Kras, 12 May 2022\n",
    "- Notebook update: Etiënne Kras, 16 Sep 2022"
   ]
  },
  {
   "cell_type": "markdown",
   "metadata": {
    "id": "aa3mJVE76LZl"
   },
   "source": [
    "## Requirements\n",
    "\n",
    "The  following Python libraries are required: \n",
    "\n",
    "- zarr \n",
    "- xarray\n",
    "- gcsfs\n",
    "\n",
    "Additional use of the following libraries is recommended: \n",
    "\n",
    "- Dask\n",
    "- GeoPandas\n",
    "- Rioxarray\n",
    "\n",
    "These libraries have several dependencies, including: \n",
    "- Numpy\n",
    "- Matplotlib\n",
    "- Pandas\n",
    "- gdal (C library)"
   ]
  },
  {
   "cell_type": "markdown",
   "metadata": {
    "id": "xCIlHwPH6yv6"
   },
   "source": [
    "## JRC Storm Surge Dataset\n",
    "\n",
    "The data is hosted in cloud buckets, mostly in zarr format. [Zarr](https://zarr.readthedocs.io/en/stable) is a format for storage of chunked, compressed, N-dimensional arrays. \n",
    "\n",
    "Here, we use the JRC Storm Surge dataset as an example of how to work with Zarr datasets. The dataset ([Vousdoukas et al. 2016](https://link.springer.com/article/10.1007/s00382-016-3019-5)) describes historical and future storm surge levels under different RCP scenario's (RCP 4.5 and 8.5) at European scale for the 21st century. "
   ]
  },
  {
   "cell_type": "markdown",
   "metadata": {
    "id": "98BKnZMfBUaI"
   },
   "source": [
    "## (OPTIONAL): Install required packages (require for Google Colab)\n",
    "\n",
    "Running the following cell will install required packages. If this notebook is run on a local environment it is recommended to create an isolated environment. Zarr is required to work with zarr format data, xarray to read the data into Python,  gcsfs to work with data stored on Google cloud buckets and ipytree to show the directory tree ofthe zarr store."
   ]
  },
  {
   "cell_type": "code",
   "execution_count": null,
   "metadata": {
    "id": "wlfz99F8_mop"
   },
   "outputs": [],
   "source": [
    "# !pip install zarr -q\n",
    "# !pip install xarray[complete] -q\n",
    "# !pip install gcsfs -q\n",
    "# !pip install ipytree -q\n",
    "# !pip install pystac-client -q\n",
    "# !pip install eccodes -q"
   ]
  },
  {
   "cell_type": "markdown",
   "metadata": {},
   "source": [
    "## Imports "
   ]
  },
  {
   "cell_type": "code",
   "execution_count": null,
   "metadata": {
    "colab": {
     "base_uri": "https://localhost:8080/"
    },
    "id": "SxIu2-oC229q",
    "outputId": "953fbf71-f87b-4bcd-c27f-e5638a7d4cdb"
   },
   "outputs": [],
   "source": [
    "# Xarray is a Python library to work with labelled multi-dimensional arrays. The\n",
    "# library is able to directly load data from an url.\n",
    "\n",
    "import warnings\n",
    "\n",
    "import matplotlib.pyplot as plt\n",
    "import pystac_client\n",
    "import xarray as xr\n",
    "\n",
    "# load packages\n",
    "import zarr\n",
    "\n",
    "warnings.filterwarnings(\"ignore\")"
   ]
  },
  {
   "cell_type": "markdown",
   "metadata": {},
   "source": [
    "## Connect to the CoCliCo STAC catalog"
   ]
  },
  {
   "cell_type": "code",
   "execution_count": null,
   "metadata": {},
   "outputs": [],
   "source": [
    "catalog = pystac_client.Client.open(\n",
    "    \"https://storage.googleapis.com/dgds-data-public/coclico/coclico-stac/catalog.json\"\n",
    ")\n",
    "catalog"
   ]
  },
  {
   "cell_type": "code",
   "execution_count": null,
   "metadata": {},
   "outputs": [],
   "source": [
    "list(catalog.get_children())"
   ]
  },
  {
   "cell_type": "markdown",
   "metadata": {},
   "source": [
    "## Get the Hypertext Reference (href)"
   ]
  },
  {
   "cell_type": "code",
   "execution_count": null,
   "metadata": {},
   "outputs": [],
   "source": [
    "href = catalog.get_child(\"ssl\").assets[\"data\"].href"
   ]
  },
  {
   "cell_type": "markdown",
   "metadata": {},
   "source": [
    "## Read data with xarray using zarr backend\n",
    "\n",
    "Might fail in colab with AttributeError: \"'EntryPoints' object has no attribute 'get'\". In colab there is no package manager, so package versions are hard to control. Since this is a relatively [new issue](https://github.com/python/importlib_metadata/issues/409) we need to find a hacky work around. When creating a local environment this shouldn't be an issue. "
   ]
  },
  {
   "cell_type": "code",
   "execution_count": null,
   "metadata": {
    "colab": {
     "base_uri": "https://localhost:8080/",
     "height": 821
    },
    "id": "3mi06dD8CMuh",
    "outputId": "35ed7ce8-7672-4888-8310-acf612c6d81f"
   },
   "outputs": [],
   "source": [
    "# Printing the dataset object shows the storm surge level consists of three dimensions.\n",
    "# Every storm surge level is associated with a certain station, scenario and revisting period.\n",
    "ds = xr.open_zarr(href)\n",
    "ds"
   ]
  },
  {
   "cell_type": "markdown",
   "metadata": {
    "id": "6pNbY3VMCrLR"
   },
   "source": [
    "## Preparing a plot example\n",
    "\n",
    "Here we replicate one of the plots from the paper. "
   ]
  },
  {
   "cell_type": "code",
   "execution_count": null,
   "metadata": {
    "id": "6qfT6v2R229r"
   },
   "outputs": [],
   "source": [
    "# return period (x-axis) will be same for all scenario's\n",
    "return_period = ds[\"rp\"].values"
   ]
  },
  {
   "cell_type": "code",
   "execution_count": null,
   "metadata": {
    "id": "40AIqOfD229s"
   },
   "outputs": [],
   "source": [
    "# function to extract ssl values at certain station for certain scenario\n",
    "f_ssl_values = (\n",
    "    lambda station, scenario: ds.isel(stations=station)\n",
    "    .sel(nscenarios=scenario)[\"ssl\"]\n",
    "    .values\n",
    ")"
   ]
  },
  {
   "cell_type": "code",
   "execution_count": null,
   "metadata": {
    "colab": {
     "base_uri": "https://localhost:8080/",
     "height": 312
    },
    "id": "VvlU79b9229u",
    "outputId": "46212c19-271f-44a7-e9f6-da75a567a904"
   },
   "outputs": [],
   "source": [
    "# Here the function defined in the previous cell is used to extract storm surge\n",
    "# levels for station x. Matplotlib is used to generate a figure and axes object.\n",
    "# The matplotlib axes object (ax) contains a method to add data to the axis. This\n",
    "# method is used to add the data for all three different scenarios, hence, the\n",
    "# f_ssl_values function is used three times.\n",
    "\n",
    "station = 1  # select station\n",
    "\n",
    "fig, ax = plt.subplots(figsize=(16, 9))\n",
    "ax.plot(return_period, f_ssl_values(station=station, scenario=0), label=\"Historical\")\n",
    "ax.plot(return_period, f_ssl_values(station=station, scenario=1), label=\"RCP45\")\n",
    "ax.plot(return_period, f_ssl_values(station=station, scenario=2), label=\"RCP85\")\n",
    "ax.set_xlabel(\"Return period [years]\")\n",
    "ax.set_ylabel(\"SSL [m]\")\n",
    "ax.set_title(\n",
    "    \"Extreme Storm Surge Level over return period per RCP scenario for Station %s \"\n",
    "    % station\n",
    ")\n",
    "plt.grid()\n",
    "plt.xlim(0, return_period[-1])\n",
    "plt.legend();"
   ]
  },
  {
   "cell_type": "markdown",
   "metadata": {
    "id": "vg73NMzGEfa0"
   },
   "source": [
    "## Some additional info for working with Zarr data \n",
    "\n",
    "Instead of directly using xarray we here load the data with the zarr library to \n",
    "explain some of its aspects and features"
   ]
  },
  {
   "cell_type": "code",
   "execution_count": null,
   "metadata": {
    "id": "cHtbgl84229x"
   },
   "outputs": [],
   "source": [
    "# Like with xarray, the data can be read directly from an url.\n",
    "zarr_store = zarr.open(r\"gs://dgds-data-public/coclico/europe_storm_surge_level.zarr\")"
   ]
  },
  {
   "cell_type": "code",
   "execution_count": null,
   "metadata": {
    "colab": {
     "base_uri": "https://localhost:8080/",
     "height": 190
    },
    "id": "1N_Xu5CcF-TG",
    "outputId": "71264789-3a42-4e41-9481-b454ecdd479d"
   },
   "outputs": [],
   "source": [
    "# The zarr store object, contains an attribute with describes the structure of the store.\n",
    "zarr_store.info"
   ]
  },
  {
   "cell_type": "code",
   "execution_count": null,
   "metadata": {
    "id": "rhbR6-5ZG1F0"
   },
   "outputs": [],
   "source": [
    "# The directory tree can also be printed...\n",
    "print(zarr_store.tree())"
   ]
  },
  {
   "cell_type": "code",
   "execution_count": null,
   "metadata": {
    "colab": {
     "base_uri": "https://localhost:8080/",
     "height": 297
    },
    "id": "Hp-ppI7HGtyV",
    "outputId": "acd5e218-d938-40ab-b6ed-421de0583320"
   },
   "outputs": [],
   "source": [
    "# The zarr store can also be inspected per group\n",
    "zarr_store[\"ssl\"].info"
   ]
  },
  {
   "cell_type": "markdown",
   "metadata": {
    "id": "VpQYwuSCGtL0"
   },
   "source": [
    "\n",
    "## Important notes on Zarr from Xarray perspective\n",
    "\n",
    "Please note: \n",
    "\n",
    "1. Zarr can only read/write Zarr groups, but no individual zarr arrays.\n",
    "2. Zarr arrays do not have dimensions names like NetCDF. Therefore, each Zarr array requires a special array attribute `_ARRAY_DIMENSIONS`. Without this attribute, data cannot be load from zarr into xarray. \n",
    "\n",
    "For an extensive discussion see [this entry of the xarray documentation](https://xarray.pydata.org/en/stable/internals/zarr-encoding-spec.html)\n",
    "\n",
    "The attributes from a certain array can be listed like:"
   ]
  },
  {
   "cell_type": "code",
   "execution_count": null,
   "metadata": {
    "colab": {
     "base_uri": "https://localhost:8080/"
    },
    "id": "1-zZAgHGGnsl",
    "outputId": "db1651e6-2962-4355-dd0e-2ee0def94ab3"
   },
   "outputs": [],
   "source": [
    "dict(zarr_store[\"ssl\"].attrs)"
   ]
  },
  {
   "cell_type": "code",
   "execution_count": null,
   "metadata": {
    "id": "-eOlMju0NzZ1"
   },
   "outputs": [],
   "source": []
  }
 ],
 "metadata": {
  "colab": {
   "collapsed_sections": [],
   "name": "coclico_notebook_demonstration_march_2022.ipynb",
   "provenance": []
  },
  "kernelspec": {
   "display_name": "Python 3 (ipykernel)",
   "language": "python",
   "name": "python3"
  },
  "language_info": {
   "codemirror_mode": {
    "name": "ipython",
    "version": 3
   },
   "file_extension": ".py",
   "mimetype": "text/x-python",
   "name": "python",
   "nbconvert_exporter": "python",
   "pygments_lexer": "ipython3",
   "version": "3.10.6"
  },
  "vscode": {
   "interpreter": {
    "hash": "d52b8dfbdab1c939c3c4b10b0d762f4c8139583e350f28e123ee37db8f80dd50"
   }
  }
 },
 "nbformat": 4,
 "nbformat_minor": 4
}
