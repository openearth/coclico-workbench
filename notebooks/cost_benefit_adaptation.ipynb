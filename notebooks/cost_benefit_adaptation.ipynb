{
 "cells": [
  {
   "cell_type": "code",
   "execution_count": 1,
   "metadata": {},
   "outputs": [],
   "source": [
    "import warnings\n",
    "\n",
    "# import holoviews as hv\n",
    "import cartopy.crs as ccrs\n",
    "import cartopy.feature as cf\n",
    "import matplotlib.pyplot as plt\n",
    "import matplotlib.ticker as tck\n",
    "import numpy as np\n",
    "import shapely\n",
    "import pandas as pd\n",
    "import pystac_client\n",
    "import xarray as xr\n",
    "import rioxarray as rio\n",
    "import pathlib\n",
    "\n",
    "#import colormaps as cmaps\n",
    "import pyam # https://pyam-iamc.readthedocs.io/en/latest/index.html\n",
    "import matplotlib.colors as mcolors\n",
    "\n",
    "from copy import deepcopy\n",
    "from typing import List, Dict\n",
    "\n",
    "# ignore warnings\n",
    "warnings.filterwarnings(\"ignore\")"
   ]
  },
  {
   "cell_type": "code",
   "execution_count": 5,
   "metadata": {},
   "outputs": [
    {
     "data": {
      "text/plain": [
       "[<CollectionClient id=floodmaps>,\n",
       " <CollectionClient id=cbca>,\n",
       " <CollectionClient id=cfr>,\n",
       " <CollectionClient id=smd>,\n",
       " <CollectionClient id=cisi>,\n",
       " <CollectionClient id=slp5>,\n",
       " <CollectionClient id=slp6>,\n",
       " <CollectionClient id=coastal-mask>,\n",
       " <CollectionClient id=overture-building-footprints>,\n",
       " <CollectionClient id=gctr>,\n",
       " <CollectionClient id=ceed>,\n",
       " <CollectionClient id=shorelinemonitor-shorelines>,\n",
       " <CollectionClient id=shorelinemonitor-raw-series>,\n",
       " <CollectionClient id=gcts>,\n",
       " <CollectionClient id=slp>,\n",
       " <CollectionClient id=ss_wc>,\n",
       " <CollectionClient id=twl>,\n",
       " <CollectionClient id=cet>,\n",
       " <CollectionClient id=CFHP_LAU_stats>,\n",
       " <CollectionClient id=ssl>,\n",
       " <CollectionClient id=wef>,\n",
       " <CollectionClient id=eesl>,\n",
       " <CollectionClient id=sc>,\n",
       " <CollectionClient id=NUTS_CM>,\n",
       " <CollectionClient id=NUTS>,\n",
       " <CollectionClient id=LAU>,\n",
       " <CollectionClient id=deltares-delta-dtm>,\n",
       " <CollectionClient id=pp>,\n",
       " <CollectionClient id=LAU_CM>,\n",
       " <CollectionClient id=NUTS0_CM>,\n",
       " <CollectionClient id=NUTS2_CM>,\n",
       " <CollectionClient id=pp_stats>,\n",
       " <CollectionClient id=cfhp>,\n",
       " <CollectionClient id=cfhp_all>,\n",
       " <CollectionClient id=CFHP_LAU_stats_all>,\n",
       " <CollectionClient id=cba_stats>,\n",
       " <CollectionClient id=cba>,\n",
       " <CollectionClient id=pp_maps>,\n",
       " <CollectionClient id=be_maps>]"
      ]
     },
     "execution_count": 5,
     "metadata": {},
     "output_type": "execute_result"
    }
   ],
   "source": [
    "# load the CoCliCo STAC catalog\n",
    "catalog = pystac_client.Client.open(\n",
    "    \"https://storage.googleapis.com/coclico-data-public/coclico/coclico-stac/catalog.json\"\n",
    ")\n",
    "# catalog\n",
    "\n",
    "# list the datasets present in the catalog, we are interested in the slp5 and slp6 sets\n",
    "list(catalog.get_children())"
   ]
  },
  {
   "cell_type": "code",
   "execution_count": 6,
   "metadata": {},
   "outputs": [],
   "source": [
    "# function to put items in dataframe\n",
    "def items_to_dataframe(items: List[Dict]) -> pd.DataFrame:\n",
    "    \"\"\"STAC items to Pandas dataframe.\n",
    "\n",
    "    Args:\n",
    "        items (List[Dict]): _description_\n",
    "\n",
    "    Returns:\n",
    "        pd.DataFrame: _description_\n",
    "    \"\"\"\n",
    "    _items = []\n",
    "    for i in items:\n",
    "        _i = deepcopy(i)\n",
    "        # _i['geometry'] = shape(_i['geometry'])\n",
    "        # ...  # for example, drop some attributes that you're not interested in\n",
    "        _items.append(_i)\n",
    "    df = pd.DataFrame(pd.json_normalize(_items))\n",
    "    # for field in [\"properties.datetime\"]:\n",
    "    #     if field in df:\n",
    "    #         df[field] = pd.to_datetime(df[field])\n",
    "    # df = df.sort_values(\"properties.datetime\")\n",
    "    return df"
   ]
  },
  {
   "cell_type": "code",
   "execution_count": 7,
   "metadata": {},
   "outputs": [],
   "source": [
    "ar5_col = catalog.get_child(\"cba_stats\")\n",
    "items_ar5 = list(ar5_col.get_items()) # this is slow as we need to list all items\n",
    "items_ar5_df = items_to_dataframe([i.to_dict() for i in items_ar5])"
   ]
  },
  {
   "cell_type": "code",
   "execution_count": 8,
   "metadata": {},
   "outputs": [],
   "source": [
    "# filter AR5 dataframe and STAC items on index\n",
    "items_df_fil5 = items_ar5_df.filter(items = [0], axis=0)\n",
    "items_fil5 = [items_ar5[i] for i in [0]]"
   ]
  },
  {
   "cell_type": "code",
   "execution_count": null,
   "metadata": {},
   "outputs": [],
   "source": [
    "ar5_item_href = items_fil5[0].assets[\"data\"].href\n",
    "\n",
    "ar5_item = rio.open_rasterio(ar5_item_href, masked=True)"
   ]
  }
 ],
 "metadata": {
  "kernelspec": {
   "display_name": "Python 3",
   "language": "python",
   "name": "python3"
  },
  "language_info": {
   "codemirror_mode": {
    "name": "ipython",
    "version": 3
   },
   "file_extension": ".py",
   "mimetype": "text/x-python",
   "name": "python",
   "nbconvert_exporter": "python",
   "pygments_lexer": "ipython3",
   "version": "3.12.7"
  }
 },
 "nbformat": 4,
 "nbformat_minor": 2
}
