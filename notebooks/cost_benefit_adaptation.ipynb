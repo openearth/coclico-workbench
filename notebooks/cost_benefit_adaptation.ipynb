{
 "cells": [
  {
   "cell_type": "code",
   "execution_count": 1,
   "metadata": {},
   "outputs": [],
   "source": [
    "import warnings\n",
    "\n",
    "# import holoviews as hv\n",
    "import cartopy.crs as ccrs\n",
    "import cartopy.feature as cf\n",
    "import matplotlib.pyplot as plt\n",
    "import matplotlib.ticker as tck\n",
    "import numpy as np\n",
    "import shapely\n",
    "import pandas as pd\n",
    "import pystac_client\n",
    "import xarray as xr\n",
    "import rioxarray as rio\n",
    "import pathlib\n",
    "\n",
    "#import colormaps as cmaps\n",
    "import pyam # https://pyam-iamc.readthedocs.io/en/latest/index.html\n",
    "import matplotlib.colors as mcolors\n",
    "\n",
    "from copy import deepcopy\n",
    "from typing import List, Dict\n",
    "\n",
    "# ignore warnings\n",
    "warnings.filterwarnings(\"ignore\")"
   ]
  },
  {
   "cell_type": "code",
   "execution_count": 2,
   "metadata": {},
   "outputs": [
    {
     "ename": "APIError",
     "evalue": "<?xml version='1.0' encoding='UTF-8'?><Error><Code>NoSuchKey</Code><Message>The specified key does not exist.</Message><Details>No such object: dgds-data-public/coclico/coclico-stac/catalog.json</Details></Error>",
     "output_type": "error",
     "traceback": [
      "\u001b[1;31m---------------------------------------------------------------------------\u001b[0m",
      "\u001b[1;31mAPIError\u001b[0m                                  Traceback (most recent call last)",
      "Cell \u001b[1;32mIn[2], line 2\u001b[0m\n\u001b[0;32m      1\u001b[0m \u001b[38;5;66;03m# load the CoCliCo STAC catalog\u001b[39;00m\n\u001b[1;32m----> 2\u001b[0m catalog \u001b[38;5;241m=\u001b[39m \u001b[43mpystac_client\u001b[49m\u001b[38;5;241;43m.\u001b[39;49m\u001b[43mClient\u001b[49m\u001b[38;5;241;43m.\u001b[39;49m\u001b[43mopen\u001b[49m\u001b[43m(\u001b[49m\n\u001b[0;32m      3\u001b[0m \u001b[43m    \u001b[49m\u001b[38;5;124;43m\"\u001b[39;49m\u001b[38;5;124;43mhttps://storage.googleapis.com/dgds-data-public/coclico/coclico-stac/catalog.json\u001b[39;49m\u001b[38;5;124;43m\"\u001b[39;49m\n\u001b[0;32m      4\u001b[0m \u001b[43m)\u001b[49m\n\u001b[0;32m      5\u001b[0m \u001b[38;5;66;03m# catalog\u001b[39;00m\n\u001b[0;32m      6\u001b[0m \n\u001b[0;32m      7\u001b[0m \u001b[38;5;66;03m# list the datasets present in the catalog, we are interested in the slp5 and slp6 sets\u001b[39;00m\n\u001b[0;32m      8\u001b[0m \u001b[38;5;28mlist\u001b[39m(catalog\u001b[38;5;241m.\u001b[39mget_children())\n",
      "File \u001b[1;32mc:\\Users\\voelz\\miniforge3\\envs\\coclico\\Lib\\site-packages\\pystac_client\\client.py:169\u001b[0m, in \u001b[0;36mClient.open\u001b[1;34m(cls, url, headers, parameters, ignore_conformance, modifier, request_modifier, stac_io, timeout)\u001b[0m\n\u001b[0;32m     97\u001b[0m \u001b[38;5;129m@classmethod\u001b[39m\n\u001b[0;32m     98\u001b[0m \u001b[38;5;28;01mdef\u001b[39;00m \u001b[38;5;21mopen\u001b[39m(\n\u001b[0;32m     99\u001b[0m     \u001b[38;5;28mcls\u001b[39m,\n\u001b[1;32m   (...)\u001b[0m\n\u001b[0;32m    107\u001b[0m     timeout: Optional[Timeout] \u001b[38;5;241m=\u001b[39m \u001b[38;5;28;01mNone\u001b[39;00m,\n\u001b[0;32m    108\u001b[0m ) \u001b[38;5;241m-\u001b[39m\u001b[38;5;241m>\u001b[39m \u001b[38;5;124m\"\u001b[39m\u001b[38;5;124mClient\u001b[39m\u001b[38;5;124m\"\u001b[39m:\n\u001b[0;32m    109\u001b[0m \u001b[38;5;250m    \u001b[39m\u001b[38;5;124;03m\"\"\"Opens a STAC Catalog or API\u001b[39;00m\n\u001b[0;32m    110\u001b[0m \u001b[38;5;124;03m    This function will read the root catalog of a STAC Catalog or API\u001b[39;00m\n\u001b[0;32m    111\u001b[0m \n\u001b[1;32m   (...)\u001b[0m\n\u001b[0;32m    167\u001b[0m \u001b[38;5;124;03m        catalog : A :class:`Client` instance for this Catalog/API\u001b[39;00m\n\u001b[0;32m    168\u001b[0m \u001b[38;5;124;03m    \"\"\"\u001b[39;00m\n\u001b[1;32m--> 169\u001b[0m     client: Client \u001b[38;5;241m=\u001b[39m \u001b[38;5;28;43mcls\u001b[39;49m\u001b[38;5;241;43m.\u001b[39;49m\u001b[43mfrom_file\u001b[49m\u001b[43m(\u001b[49m\n\u001b[0;32m    170\u001b[0m \u001b[43m        \u001b[49m\u001b[43murl\u001b[49m\u001b[43m,\u001b[49m\n\u001b[0;32m    171\u001b[0m \u001b[43m        \u001b[49m\u001b[43mheaders\u001b[49m\u001b[38;5;241;43m=\u001b[39;49m\u001b[43mheaders\u001b[49m\u001b[43m,\u001b[49m\n\u001b[0;32m    172\u001b[0m \u001b[43m        \u001b[49m\u001b[43mparameters\u001b[49m\u001b[38;5;241;43m=\u001b[39;49m\u001b[43mparameters\u001b[49m\u001b[43m,\u001b[49m\n\u001b[0;32m    173\u001b[0m \u001b[43m        \u001b[49m\u001b[43mmodifier\u001b[49m\u001b[38;5;241;43m=\u001b[39;49m\u001b[43mmodifier\u001b[49m\u001b[43m,\u001b[49m\n\u001b[0;32m    174\u001b[0m \u001b[43m        \u001b[49m\u001b[43mrequest_modifier\u001b[49m\u001b[38;5;241;43m=\u001b[39;49m\u001b[43mrequest_modifier\u001b[49m\u001b[43m,\u001b[49m\n\u001b[0;32m    175\u001b[0m \u001b[43m        \u001b[49m\u001b[43mstac_io\u001b[49m\u001b[38;5;241;43m=\u001b[39;49m\u001b[43mstac_io\u001b[49m\u001b[43m,\u001b[49m\n\u001b[0;32m    176\u001b[0m \u001b[43m        \u001b[49m\u001b[43mtimeout\u001b[49m\u001b[38;5;241;43m=\u001b[39;49m\u001b[43mtimeout\u001b[49m\u001b[43m,\u001b[49m\n\u001b[0;32m    177\u001b[0m \u001b[43m    \u001b[49m\u001b[43m)\u001b[49m\n\u001b[0;32m    179\u001b[0m     \u001b[38;5;28;01mif\u001b[39;00m ignore_conformance \u001b[38;5;129;01mis\u001b[39;00m \u001b[38;5;129;01mnot\u001b[39;00m \u001b[38;5;28;01mNone\u001b[39;00m:\n\u001b[0;32m    180\u001b[0m         warnings\u001b[38;5;241m.\u001b[39mwarn(\n\u001b[0;32m    181\u001b[0m             (\n\u001b[0;32m    182\u001b[0m                 \u001b[38;5;124m\"\u001b[39m\u001b[38;5;124mThe `ignore_conformance` option is deprecated and will be \u001b[39m\u001b[38;5;124m\"\u001b[39m\n\u001b[1;32m   (...)\u001b[0m\n\u001b[0;32m    186\u001b[0m             \u001b[38;5;167;01mFutureWarning\u001b[39;00m,\n\u001b[0;32m    187\u001b[0m         )\n",
      "File \u001b[1;32mc:\\Users\\voelz\\miniforge3\\envs\\coclico\\Lib\\site-packages\\pystac_client\\client.py:225\u001b[0m, in \u001b[0;36mClient.from_file\u001b[1;34m(cls, href, stac_io, headers, parameters, modifier, request_modifier, timeout)\u001b[0m\n\u001b[0;32m    217\u001b[0m \u001b[38;5;28;01melse\u001b[39;00m:\n\u001b[0;32m    218\u001b[0m     stac_io\u001b[38;5;241m.\u001b[39mupdate(\n\u001b[0;32m    219\u001b[0m         headers\u001b[38;5;241m=\u001b[39mheaders,\n\u001b[0;32m    220\u001b[0m         parameters\u001b[38;5;241m=\u001b[39mparameters,\n\u001b[0;32m    221\u001b[0m         request_modifier\u001b[38;5;241m=\u001b[39mrequest_modifier,\n\u001b[0;32m    222\u001b[0m         timeout\u001b[38;5;241m=\u001b[39mtimeout,\n\u001b[0;32m    223\u001b[0m     )\n\u001b[1;32m--> 225\u001b[0m client: Client \u001b[38;5;241m=\u001b[39m \u001b[38;5;28;43msuper\u001b[39;49m\u001b[43m(\u001b[49m\u001b[43m)\u001b[49m\u001b[38;5;241;43m.\u001b[39;49m\u001b[43mfrom_file\u001b[49m\u001b[43m(\u001b[49m\u001b[43mhref\u001b[49m\u001b[43m,\u001b[49m\u001b[43m \u001b[49m\u001b[43mstac_io\u001b[49m\u001b[43m)\u001b[49m\n\u001b[0;32m    226\u001b[0m client\u001b[38;5;241m.\u001b[39mmodifier \u001b[38;5;241m=\u001b[39m modifier\n\u001b[0;32m    228\u001b[0m \u001b[38;5;28;01mreturn\u001b[39;00m client\n",
      "File \u001b[1;32mc:\\Users\\voelz\\miniforge3\\envs\\coclico\\Lib\\site-packages\\pystac\\catalog.py:1272\u001b[0m, in \u001b[0;36mCatalog.from_file\u001b[1;34m(cls, href, stac_io)\u001b[0m\n\u001b[0;32m   1269\u001b[0m \u001b[38;5;28;01mif\u001b[39;00m stac_io \u001b[38;5;129;01mis\u001b[39;00m \u001b[38;5;28;01mNone\u001b[39;00m:\n\u001b[0;32m   1270\u001b[0m     stac_io \u001b[38;5;241m=\u001b[39m pystac\u001b[38;5;241m.\u001b[39mStacIO\u001b[38;5;241m.\u001b[39mdefault()\n\u001b[1;32m-> 1272\u001b[0m result \u001b[38;5;241m=\u001b[39m \u001b[38;5;28;43msuper\u001b[39;49m\u001b[43m(\u001b[49m\u001b[43m)\u001b[49m\u001b[38;5;241;43m.\u001b[39;49m\u001b[43mfrom_file\u001b[49m\u001b[43m(\u001b[49m\u001b[43mhref\u001b[49m\u001b[43m,\u001b[49m\u001b[43m \u001b[49m\u001b[43mstac_io\u001b[49m\u001b[43m)\u001b[49m\n\u001b[0;32m   1273\u001b[0m result\u001b[38;5;241m.\u001b[39m_stac_io \u001b[38;5;241m=\u001b[39m stac_io\n\u001b[0;32m   1275\u001b[0m \u001b[38;5;28;01mreturn\u001b[39;00m result\n",
      "File \u001b[1;32mc:\\Users\\voelz\\miniforge3\\envs\\coclico\\Lib\\site-packages\\pystac\\stac_object.py:628\u001b[0m, in \u001b[0;36mSTACObject.from_file\u001b[1;34m(cls, href, stac_io)\u001b[0m\n\u001b[0;32m    625\u001b[0m \u001b[38;5;28;01mif\u001b[39;00m \u001b[38;5;129;01mnot\u001b[39;00m is_absolute_href(href):\n\u001b[0;32m    626\u001b[0m     href \u001b[38;5;241m=\u001b[39m make_absolute_href(href)\n\u001b[1;32m--> 628\u001b[0m d \u001b[38;5;241m=\u001b[39m \u001b[43mstac_io\u001b[49m\u001b[38;5;241;43m.\u001b[39;49m\u001b[43mread_json\u001b[49m\u001b[43m(\u001b[49m\u001b[43mhref\u001b[49m\u001b[43m)\u001b[49m\n\u001b[0;32m    629\u001b[0m o \u001b[38;5;241m=\u001b[39m \u001b[38;5;28mcls\u001b[39m\u001b[38;5;241m.\u001b[39mfrom_dict(d, href\u001b[38;5;241m=\u001b[39mhref, migrate\u001b[38;5;241m=\u001b[39m\u001b[38;5;28;01mTrue\u001b[39;00m, preserve_dict\u001b[38;5;241m=\u001b[39m\u001b[38;5;28;01mFalse\u001b[39;00m)\n\u001b[0;32m    631\u001b[0m \u001b[38;5;66;03m# If this is a root catalog, set the root to the catalog instance.\u001b[39;00m\n",
      "File \u001b[1;32mc:\\Users\\voelz\\miniforge3\\envs\\coclico\\Lib\\site-packages\\pystac\\stac_io.py:206\u001b[0m, in \u001b[0;36mStacIO.read_json\u001b[1;34m(self, source, *args, **kwargs)\u001b[0m\n\u001b[0;32m    189\u001b[0m \u001b[38;5;28;01mdef\u001b[39;00m \u001b[38;5;21mread_json\u001b[39m(\u001b[38;5;28mself\u001b[39m, source: HREF, \u001b[38;5;241m*\u001b[39margs: Any, \u001b[38;5;241m*\u001b[39m\u001b[38;5;241m*\u001b[39mkwargs: Any) \u001b[38;5;241m-\u001b[39m\u001b[38;5;241m>\u001b[39m \u001b[38;5;28mdict\u001b[39m[\u001b[38;5;28mstr\u001b[39m, Any]:\n\u001b[0;32m    190\u001b[0m \u001b[38;5;250m    \u001b[39m\u001b[38;5;124;03m\"\"\"Read a dict from the given source.\u001b[39;00m\n\u001b[0;32m    191\u001b[0m \n\u001b[0;32m    192\u001b[0m \u001b[38;5;124;03m    See :func:`StacIO.read_text <pystac.StacIO.read_text>` for usage of\u001b[39;00m\n\u001b[1;32m   (...)\u001b[0m\n\u001b[0;32m    204\u001b[0m \u001b[38;5;124;03m        given source.\u001b[39;00m\n\u001b[0;32m    205\u001b[0m \u001b[38;5;124;03m    \"\"\"\u001b[39;00m\n\u001b[1;32m--> 206\u001b[0m     txt \u001b[38;5;241m=\u001b[39m \u001b[38;5;28;43mself\u001b[39;49m\u001b[38;5;241;43m.\u001b[39;49m\u001b[43mread_text\u001b[49m\u001b[43m(\u001b[49m\u001b[43msource\u001b[49m\u001b[43m,\u001b[49m\u001b[43m \u001b[49m\u001b[38;5;241;43m*\u001b[39;49m\u001b[43margs\u001b[49m\u001b[43m,\u001b[49m\u001b[43m \u001b[49m\u001b[38;5;241;43m*\u001b[39;49m\u001b[38;5;241;43m*\u001b[39;49m\u001b[43mkwargs\u001b[49m\u001b[43m)\u001b[49m\n\u001b[0;32m    207\u001b[0m     \u001b[38;5;28;01mreturn\u001b[39;00m \u001b[38;5;28mself\u001b[39m\u001b[38;5;241m.\u001b[39mjson_loads(txt)\n",
      "File \u001b[1;32mc:\\Users\\voelz\\miniforge3\\envs\\coclico\\Lib\\site-packages\\pystac_client\\stac_api_io.py:171\u001b[0m, in \u001b[0;36mStacApiIO.read_text\u001b[1;34m(self, source, *args, **kwargs)\u001b[0m\n\u001b[0;32m    169\u001b[0m href \u001b[38;5;241m=\u001b[39m \u001b[38;5;28mstr\u001b[39m(source)\n\u001b[0;32m    170\u001b[0m \u001b[38;5;28;01mif\u001b[39;00m _is_url(href):\n\u001b[1;32m--> 171\u001b[0m     \u001b[38;5;28;01mreturn\u001b[39;00m \u001b[38;5;28;43mself\u001b[39;49m\u001b[38;5;241;43m.\u001b[39;49m\u001b[43mrequest\u001b[49m\u001b[43m(\u001b[49m\u001b[43mhref\u001b[49m\u001b[43m,\u001b[49m\u001b[43m \u001b[49m\u001b[38;5;241;43m*\u001b[39;49m\u001b[43margs\u001b[49m\u001b[43m,\u001b[49m\u001b[43m \u001b[49m\u001b[38;5;241;43m*\u001b[39;49m\u001b[38;5;241;43m*\u001b[39;49m\u001b[43mkwargs\u001b[49m\u001b[43m)\u001b[49m\n\u001b[0;32m    172\u001b[0m \u001b[38;5;28;01melse\u001b[39;00m:\n\u001b[0;32m    173\u001b[0m     \u001b[38;5;28;01mwith\u001b[39;00m \u001b[38;5;28mopen\u001b[39m(href) \u001b[38;5;28;01mas\u001b[39;00m f:\n",
      "File \u001b[1;32mc:\\Users\\voelz\\miniforge3\\envs\\coclico\\Lib\\site-packages\\pystac_client\\stac_api_io.py:223\u001b[0m, in \u001b[0;36mStacApiIO.request\u001b[1;34m(self, href, method, headers, parameters)\u001b[0m\n\u001b[0;32m    221\u001b[0m     \u001b[38;5;28;01mraise\u001b[39;00m APIError(\u001b[38;5;28mstr\u001b[39m(err))\n\u001b[0;32m    222\u001b[0m \u001b[38;5;28;01mif\u001b[39;00m resp\u001b[38;5;241m.\u001b[39mstatus_code \u001b[38;5;241m!=\u001b[39m \u001b[38;5;241m200\u001b[39m:\n\u001b[1;32m--> 223\u001b[0m     \u001b[38;5;28;01mraise\u001b[39;00m APIError\u001b[38;5;241m.\u001b[39mfrom_response(resp)\n\u001b[0;32m    224\u001b[0m \u001b[38;5;28;01mtry\u001b[39;00m:\n\u001b[0;32m    225\u001b[0m     \u001b[38;5;28;01mreturn\u001b[39;00m resp\u001b[38;5;241m.\u001b[39mcontent\u001b[38;5;241m.\u001b[39mdecode(\u001b[38;5;124m\"\u001b[39m\u001b[38;5;124mutf-8\u001b[39m\u001b[38;5;124m\"\u001b[39m)\n",
      "\u001b[1;31mAPIError\u001b[0m: <?xml version='1.0' encoding='UTF-8'?><Error><Code>NoSuchKey</Code><Message>The specified key does not exist.</Message><Details>No such object: dgds-data-public/coclico/coclico-stac/catalog.json</Details></Error>"
     ]
    }
   ],
   "source": [
    "# load the CoCliCo STAC catalog\n",
    "catalog = pystac_client.Client.open(\n",
    "    \"https://storage.googleapis.com/dgds-data-public/coclico/coclico-stac/catalog.json\"\n",
    ")\n",
    "# catalog\n",
    "\n",
    "# list the datasets present in the catalog, we are interested in the slp5 and slp6 sets\n",
    "list(catalog.get_children())"
   ]
  },
  {
   "cell_type": "code",
   "execution_count": 3,
   "metadata": {},
   "outputs": [],
   "source": [
    "# function to put items in dataframe\n",
    "def items_to_dataframe(items: List[Dict]) -> pd.DataFrame:\n",
    "    \"\"\"STAC items to Pandas dataframe.\n",
    "\n",
    "    Args:\n",
    "        items (List[Dict]): _description_\n",
    "\n",
    "    Returns:\n",
    "        pd.DataFrame: _description_\n",
    "    \"\"\"\n",
    "    _items = []\n",
    "    for i in items:\n",
    "        _i = deepcopy(i)\n",
    "        # _i['geometry'] = shape(_i['geometry'])\n",
    "        # ...  # for example, drop some attributes that you're not interested in\n",
    "        _items.append(_i)\n",
    "    df = pd.DataFrame(pd.json_normalize(_items))\n",
    "    # for field in [\"properties.datetime\"]:\n",
    "    #     if field in df:\n",
    "    #         df[field] = pd.to_datetime(df[field])\n",
    "    # df = df.sort_values(\"properties.datetime\")\n",
    "    return df"
   ]
  },
  {
   "cell_type": "code",
   "execution_count": 4,
   "metadata": {},
   "outputs": [
    {
     "ename": "NameError",
     "evalue": "name 'catalog' is not defined",
     "output_type": "error",
     "traceback": [
      "\u001b[1;31m---------------------------------------------------------------------------\u001b[0m",
      "\u001b[1;31mNameError\u001b[0m                                 Traceback (most recent call last)",
      "Cell \u001b[1;32mIn[4], line 1\u001b[0m\n\u001b[1;32m----> 1\u001b[0m ar5_col \u001b[38;5;241m=\u001b[39m \u001b[43mcatalog\u001b[49m\u001b[38;5;241m.\u001b[39mget_child(\u001b[38;5;124m\"\u001b[39m\u001b[38;5;124mcba_stats\u001b[39m\u001b[38;5;124m\"\u001b[39m)\n\u001b[0;32m      2\u001b[0m items_ar5 \u001b[38;5;241m=\u001b[39m \u001b[38;5;28mlist\u001b[39m(ar5_col\u001b[38;5;241m.\u001b[39mget_items()) \u001b[38;5;66;03m# this is slow as we need to list all items\u001b[39;00m\n\u001b[0;32m      3\u001b[0m items_ar5_df \u001b[38;5;241m=\u001b[39m items_to_dataframe([i\u001b[38;5;241m.\u001b[39mto_dict() \u001b[38;5;28;01mfor\u001b[39;00m i \u001b[38;5;129;01min\u001b[39;00m items_ar5])\n",
      "\u001b[1;31mNameError\u001b[0m: name 'catalog' is not defined"
     ]
    }
   ],
   "source": [
    "ar5_col = catalog.get_child(\"cba_stats\")\n",
    "items_ar5 = list(ar5_col.get_items()) # this is slow as we need to list all items\n",
    "items_ar5_df = items_to_dataframe([i.to_dict() for i in items_ar5])"
   ]
  },
  {
   "cell_type": "code",
   "execution_count": null,
   "metadata": {},
   "outputs": [],
   "source": [
    "# filter AR5 dataframe and STAC items on index\n",
    "items_df_fil5 = items_ar5_df.filter(items = [0], axis=0)\n",
    "items_fil5 = [items_ar5[i] for i in [0]]"
   ]
  },
  {
   "cell_type": "code",
   "execution_count": null,
   "metadata": {},
   "outputs": [],
   "source": [
    "ar5_item_href = items_fil5[0].assets[\"data\"].href\n",
    "\n",
    "ar5_item = rio.open_rasterio(ar5_item_href, masked=True)"
   ]
  }
 ],
 "metadata": {
  "kernelspec": {
   "display_name": "Python 3",
   "language": "python",
   "name": "python3"
  },
  "language_info": {
   "codemirror_mode": {
    "name": "ipython",
    "version": 3
   },
   "file_extension": ".py",
   "mimetype": "text/x-python",
   "name": "python",
   "nbconvert_exporter": "python",
   "pygments_lexer": "ipython3",
   "version": "3.12.7"
  }
 },
 "nbformat": 4,
 "nbformat_minor": 2
}
