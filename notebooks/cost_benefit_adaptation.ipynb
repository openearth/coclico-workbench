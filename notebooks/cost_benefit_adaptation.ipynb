{
 "cells": [
  {
   "cell_type": "code",
   "execution_count": null,
   "metadata": {},
   "outputs": [],
   "source": [
    "#import packages\n",
    "import warnings\n",
    "import matplotlib.pyplot as plt\n",
    "import numpy as np\n",
    "import pandas as pd\n",
    "import pystac_client\n",
    "import xarray as xr\n",
    "import geopandas as gpd\n",
    "import folium\n",
    "from shapely import wkb\n",
    "import io\n",
    "\n",
    "# ignore warnings\n",
    "warnings.filterwarnings(\"ignore\")"
   ]
  },
  {
   "cell_type": "code",
   "execution_count": null,
   "metadata": {},
   "outputs": [],
   "source": [
    "# Setup the URL to STAC catalog in Google Cloud\n",
    "catalog = pystac_client.Client.open(\n",
    "    'https://storage.googleapis.com/coclico-data-public/coclico/coclico-stac-15apr25/catalog.json'\n",
    "    )\n",
    "\n",
    "# Retrieve collection from catalog\n",
    "collection = catalog.get_child(id = 'cba_hr')"
   ]
  },
  {
   "cell_type": "code",
   "execution_count": null,
   "metadata": {},
   "outputs": [],
   "source": [
    "#load data from STAC in DataFrame\n",
    "items_ar5 = list(collection.get_items())\n",
    "item = items_ar5[1]  # or any other item, 2 and 3 for other CC scenarios?\n",
    "#print(item.assets.keys())\n",
    "\n",
    "asset = item.assets[\"data\"] \n",
    "#print(asset.href)\n",
    "\n",
    "df_ssp245 = pd.read_parquet(asset.href)\n"
   ]
  },
  {
   "cell_type": "code",
   "execution_count": null,
   "metadata": {},
   "outputs": [],
   "source": [
    "#function to plot adaptation pathway\n",
    "def plot_adaptation_pathway(df, fpid):\n",
    "        df2 = df[df['fpid'] == fpid]\n",
    "\n",
    "        fig, ax = plt.subplots()\n",
    "\n",
    "        ax.set_xlabel(\"Years\")\n",
    "        ax.set_ylabel(\"Height (m)\")\n",
    "        ax.set_title(f\"Economically optimal adaptation pathway for floodplain {fpid}\")\n",
    "        ax.set_xlim(2020, 2150)\n",
    "\n",
    "        # Vertical line at 2020\n",
    "        ax.plot([2020, 2020], [0, 0], color=\"black\")\n",
    "\n",
    "        # Loop through the years\n",
    "        years = df2['year'].values\n",
    "        for i in range(len(years) - 1):\n",
    "                t = years[i]\n",
    "                t_next = years[i + 1]\n",
    "\n",
    "                # Retreat height\n",
    "                retreat_height = df2[df2['year'] == t]['retreat_height'].values[0]\n",
    "                retreat_height_next = df2[df2['year'] == t_next]['retreat_height'].values[0]\n",
    "                ax.plot([t, t_next, t_next], [retreat_height, retreat_height, retreat_height_next], \n",
    "                        color='deepskyblue', linewidth=3, label=\"Retreat\" if i == 0 else \"\")\n",
    "\n",
    "                # Protection height\n",
    "                protection_height = round(df2[df2['year'] == t]['protection_height'].values[0], 1)\n",
    "                protection_height_next = df2[df2['year'] == t_next]['protection_height'].values[0]\n",
    "                ax.plot([t, t_next, t_next], [protection_height, protection_height, protection_height_next], \n",
    "                        color='red', linewidth=2, label=\"Protection\" if i == 0 else \"\")\n",
    "\n",
    "                # Accommodation height\n",
    "                acc_height = df2[df2['year'] == t]['accommodation'].values[0]\n",
    "                acc_height_next = df2[df2['year'] == t_next]['accommodation'].values[0]\n",
    "                acc_height = -0.1 if acc_height == 0 else acc_height\n",
    "                acc_height_next = -0.1 if acc_height_next == 0 else acc_height_next\n",
    "                ax.plot([t, t_next, t_next], [acc_height, acc_height, acc_height_next], \n",
    "                        color='orange', linewidth=2, label=\"Accommodation\" if i == 0 else \"\")\n",
    "\n",
    "        # Add legend\n",
    "        ax.legend()\n",
    "        plt.tight_layout()\n",
    "        plt.show()\n",
    "        return fig, ax"
   ]
  },
  {
   "cell_type": "code",
   "execution_count": null,
   "metadata": {},
   "outputs": [],
   "source": [
    "#function to plot interactive map of all floodplains\n",
    "def plot_interactive_fpid_geometries(df, fpid):\n",
    "    # Step 1: Drop duplicates and convert WKB to Shapely\n",
    "    unique_geometries = df.drop_duplicates(subset=['fpid', 'geometry']).copy()\n",
    "    unique_geometries['geometry'] = unique_geometries['geometry'].apply(wkb.loads)\n",
    "\n",
    "    # Step 2: Create GeoDataFrame\n",
    "    gdf = gpd.GeoDataFrame(unique_geometries, geometry='geometry', crs=\"EPSG:4326\")\n",
    "\n",
    "    # Step 3: Get center of target geometry for initial map zoom\n",
    "    target_geom = gdf[gdf['fpid'] == fpid].geometry.iloc[0]\n",
    "    centroid = target_geom.centroid\n",
    "    center = [centroid.y, centroid.x]\n",
    "\n",
    "    # Step 4: Create Folium map centered at target fpid\n",
    "    m = folium.Map(location=center, zoom_start=12, tiles=\"cartodbpositron\")\n",
    "\n",
    "    # Step 5: Add all geometries with hover tooltip\n",
    "    for _, row in gdf.iterrows():\n",
    "        color = \"red\" if row[\"fpid\"] == fpid else \"gray\"\n",
    "        folium.GeoJson(\n",
    "            row[\"geometry\"],\n",
    "            tooltip=f\"fpid: {row['fpid']}\",\n",
    "            style_function=lambda x, color=color: {\n",
    "                \"fillColor\": color,\n",
    "                \"color\": \"black\",\n",
    "                \"weight\": 1,\n",
    "                \"fillOpacity\": 0.5 if color == \"gray\" else 0.9,\n",
    "            }\n",
    "        ).add_to(m)\n",
    "\n",
    "    return m"
   ]
  },
  {
   "cell_type": "code",
   "execution_count": null,
   "metadata": {},
   "outputs": [],
   "source": [
    "#constructing interactive map with zoom and hover function to see all floodplains with their ID's (fpid) with one fpid highlighted in red (3 mins runtime) \n",
    "interactive_map = plot_interactive_fpid_geometries(df_ssp245, fpid=34110)\n",
    "interactive_map"
   ]
  },
  {
   "cell_type": "code",
   "execution_count": null,
   "metadata": {},
   "outputs": [],
   "source": [
    "#plot adaptation pathway of one fpid\n",
    "plot_adaptation_pathway(df_ssp245, 34110)"
   ]
  },
  {
   "cell_type": "code",
   "execution_count": null,
   "metadata": {},
   "outputs": [],
   "source": [
    "#function to plot non-interactive map of all floodplains with one ID highlighted\n",
    "def plot_fpid_geometries(df, fpid):\n",
    "    # Step 1: Remove duplicate rows for each fpid (since there are 14 identical rows for each fpid)\n",
    "    unique_geometries = df.drop_duplicates(subset=['fpid', 'geometry'])\n",
    "    # Step 2: Convert binary WKB data to Shapely geometry objects for all unique geometries\n",
    "    unique_geometries['geometry'] = unique_geometries['geometry'].apply(lambda x: wkb.loads(x))\n",
    "    \n",
    "    #Extract the target fpid's geometry\n",
    "    target_geom = unique_geometries.loc[unique_geometries['fpid'] == fpid, 'geometry'].iloc[0]\n",
    "    # Convert the binary WKB data to a shapely geometry object\n",
    "    #target_geometry = wkb.loads(target_geom)\n",
    "\n",
    "    #Plot all unique geometries, highlight target fpid\n",
    "    fig, ax = plt.subplots(figsize=(8, 6))\n",
    "    \n",
    "    # Plot all unique geometries in a lighter color (e.g., gray)\n",
    "    unique_geom_gs = gpd.GeoSeries(unique_geometries['geometry'])\n",
    "    unique_geom_gs.plot(ax=ax, color=\"black\", edgecolor=\"black\", alpha=0.5)\n",
    "    \n",
    "    #Plot the target fpid in a distinct color (e.g., red)\n",
    "    target_geom_gs = gpd.GeoSeries([target_geom])\n",
    "    target_geom_gs.plot(ax=ax, color=\"red\", edgecolor=\"red\", label=f\"fpid {fpid}\")\n",
    "    \n",
    "    # Add axis labels\n",
    "    ax.set_xlabel(\"Longitude\")\n",
    "    ax.set_ylabel(\"Latitude\")\n",
    "    ax.set_xticks([])\n",
    "    ax.set_yticks([])\n",
    "    ax.set_facecolor(\"white\")\n",
    "    ax.grid(False)\n",
    "    \n",
    "    # Show legend\n",
    "    ax.legend()\n",
    "\n",
    "    plt.tight_layout()\n",
    "    plt.show()\n",
    "\n",
    "    return fig, ax"
   ]
  },
  {
   "cell_type": "code",
   "execution_count": null,
   "metadata": {},
   "outputs": [],
   "source": [
    "#plot all floodplains with one floodplain \"fpid\" highlighted in red\n",
    "plot_fpid_geometries(df_ssp245,34110)"
   ]
  },
  {
   "cell_type": "code",
   "execution_count": null,
   "metadata": {},
   "outputs": [],
   "source": []
  }
 ],
 "metadata": {
  "kernelspec": {
   "display_name": "Python 3",
   "language": "python",
   "name": "python3"
  },
  "language_info": {
   "codemirror_mode": {
    "name": "ipython",
    "version": 3
   },
   "file_extension": ".py",
   "mimetype": "text/x-python",
   "name": "python",
   "nbconvert_exporter": "python",
   "pygments_lexer": "ipython3",
   "version": "3.12.7"
  }
 },
 "nbformat": 4,
 "nbformat_minor": 2
}
