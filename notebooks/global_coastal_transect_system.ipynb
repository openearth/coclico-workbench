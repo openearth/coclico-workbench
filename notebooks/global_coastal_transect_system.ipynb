{
 "cells": [
  {
   "cell_type": "markdown",
   "id": "2b0c68db-fe09-425f-bbd2-56d77335d38c",
   "metadata": {},
   "source": [
    "# Examples how to work with Global Coastal Transect System \n",
    "\n",
    "Run the first few cells to load required functions and jump to the section you're interested in afterwards. "
   ]
  },
  {
   "cell_type": "code",
   "execution_count": null,
   "id": "5d2e6d5c-1563-46bf-880a-c0345bbfa528",
   "metadata": {},
   "outputs": [],
   "source": [
    "import logging\n",
    "import os\n",
    "import pathlib\n",
    "import sys\n",
    "\n",
    "import dask\n",
    "\n",
    "dask.config.set({\"dataframe.query-planning\": False})\n",
    "import dask_geopandas\n",
    "import duckdb\n",
    "import geopandas as gpd\n",
    "import hvplot.pandas\n",
    "import pandas as pd\n",
    "import pystac\n",
    "import shapely\n",
    "from coastmonitor.geo.geometries import geo_bbox\n",
    "from dotenv import load_dotenv\n",
    "from ipyleaflet import Map, basemaps\n",
    "\n",
    "load_dotenv(override=True)\n",
    "\n",
    "sas_token = os.getenv(\"AZURE_STORAGE_SAS_TOKEN\")\n",
    "account_name = \"coclico\"\n",
    "storage_options = {\"account_name\": account_name, \"credential\": sas_token}"
   ]
  },
  {
   "cell_type": "markdown",
   "id": "69d58238-05c3-40c8-b753-3901f649ea6b",
   "metadata": {},
   "source": [
    "## Load from STAC catalog\n",
    "\n",
    "Load the transects from our CoCliCo STAC catalog. "
   ]
  },
  {
   "cell_type": "code",
   "execution_count": null,
   "id": "1a2ec243-beaa-4493-9c94-4160246cc640",
   "metadata": {},
   "outputs": [],
   "source": [
    "coclico_catalog = pystac.Catalog.from_file(\n",
    "    \"https://coclico.blob.core.windows.net/stac/v1/catalog.json\"\n",
    ")"
   ]
  },
  {
   "cell_type": "code",
   "execution_count": null,
   "id": "9b379059-a299-4014-8948-91a7ae01aab2",
   "metadata": {},
   "outputs": [],
   "source": [
    "coclico_catalog"
   ]
  },
  {
   "cell_type": "code",
   "execution_count": null,
   "id": "7c085153-ad6c-40e1-a3ef-e52e803b1ef1",
   "metadata": {
    "tags": []
   },
   "outputs": [],
   "source": [
    "list(coclico_catalog.get_all_collections())"
   ]
  },
  {
   "cell_type": "code",
   "execution_count": null,
   "id": "3b13084c-06a8-4397-b173-ab4224c93a08",
   "metadata": {
    "tags": []
   },
   "outputs": [],
   "source": [
    "gcts = coclico_catalog.get_child(\"gcts\")\n",
    "gcts"
   ]
  },
  {
   "cell_type": "markdown",
   "id": "7daeb662",
   "metadata": {},
   "source": [
    "### Use a dynamic map to extract data by region of interest\n",
    "\n",
    "The IPyleaflet map below can be used to find the bbox coordinates of a certain region.\n",
    "Zoom to the area where you want to extract data and run the next cell. Please keep in\n",
    "mind to wait 1 second because the map has to be rendered before the coordinates can be\n",
    "extracted. "
   ]
  },
  {
   "cell_type": "code",
   "execution_count": null,
   "id": "51e12c5b-27a3-4a0c-8ad9-0e92c427d7c8",
   "metadata": {
    "tags": []
   },
   "outputs": [],
   "source": [
    "m = Map(basemap=basemaps.Esri.WorldImagery, scroll_wheel_zoom=True)\n",
    "m.center = 41.735966575868716, -70.10032653808595\n",
    "m.zoom = 9\n",
    "m.layout.height = \"800px\"\n",
    "m"
   ]
  },
  {
   "cell_type": "code",
   "execution_count": null,
   "id": "5085cbb9-95f1-4a1f-9ea5-fe5ec79e9365",
   "metadata": {
    "tags": []
   },
   "outputs": [],
   "source": [
    "# this makes a GeoPandas dataframe from the DynamicMap that is rendered abo\n",
    "west, south, east, north = m.west, m.south, m.east, m.north"
   ]
  },
  {
   "cell_type": "code",
   "execution_count": null,
   "id": "2c64c44d-5b7a-483c-b679-8ab75d9a7049",
   "metadata": {
    "tags": []
   },
   "outputs": [],
   "source": [
    "# makes a list of all items (data partitions) in the GCTS STAC catalog\n",
    "items = list(gcts.get_all_items())"
   ]
  },
  {
   "cell_type": "markdown",
   "id": "bd90664c-7b47-467b-8699-774033fb6481",
   "metadata": {},
   "source": [
    "## The dataset is partitioned into geospatial chunks\n",
    "\n",
    "The dataset is divided into different chunks, that each span a different region of the world. In the next cell\n",
    "we read the spatial extends of each chunk and compose that into a GeoDataFrame"
   ]
  },
  {
   "cell_type": "code",
   "execution_count": null,
   "id": "5c951272-54e6-4794-bb26-9fd1adbe5aeb",
   "metadata": {
    "tags": []
   },
   "outputs": [],
   "source": [
    "bboxes = pd.concat([geo_bbox(*i.to_dict()[\"bbox\"]) for i in items])\n",
    "bboxes = bboxes.reset_index(drop=True)\n",
    "bboxes.explore()"
   ]
  },
  {
   "cell_type": "markdown",
   "id": "67ea0f0b-02c6-4260-8b0d-91f5f15b7b52",
   "metadata": {},
   "source": [
    "## Now we can find the bboxes that cover our region of interest"
   ]
  },
  {
   "cell_type": "code",
   "execution_count": null,
   "id": "97d8fd11-20a9-4b85-b567-b26c02363631",
   "metadata": {
    "tags": []
   },
   "outputs": [],
   "source": [
    "bboxes_roi = gpd.sjoin(bboxes, roi)[bboxes.columns]\n",
    "items_roi = [items[i] for i in bboxes_roi.index]"
   ]
  },
  {
   "cell_type": "code",
   "execution_count": null,
   "id": "2ab621b4-54e0-4cfd-8a26-0a7c47074cde",
   "metadata": {
    "tags": []
   },
   "outputs": [],
   "source": [
    "items_roi"
   ]
  },
  {
   "cell_type": "code",
   "execution_count": null,
   "id": "7565af5c-e2d2-4958-b7ae-6a68be2d1b85",
   "metadata": {
    "tags": []
   },
   "outputs": [],
   "source": [
    "items_roi[0]"
   ]
  },
  {
   "cell_type": "markdown",
   "id": "cb013d49-f2c8-4c98-ba73-54df72e3b526",
   "metadata": {},
   "source": [
    "## The STAC items contain references to where the data is stored"
   ]
  },
  {
   "cell_type": "code",
   "execution_count": null,
   "id": "1b4db663-c2db-4696-8e46-d0222212b32b",
   "metadata": {
    "tags": []
   },
   "outputs": [],
   "source": [
    "hrefs = [i.assets[\"data\"].href for i in items_roi]"
   ]
  },
  {
   "cell_type": "markdown",
   "id": "ecd7af9a-a990-41ae-b67b-6de0e372d154",
   "metadata": {},
   "source": [
    "## Cloud based data\n",
    "\n",
    "The href that you see below is a url to a cloud bucket with the transects for the area of interest. The prefix \"az://\" is the protocol for Azure cloud storage."
   ]
  },
  {
   "cell_type": "code",
   "execution_count": null,
   "id": "90d9e953-42df-45b5-ab7f-c77693de90c7",
   "metadata": {
    "tags": []
   },
   "outputs": [],
   "source": [
    "hrefs"
   ]
  },
  {
   "cell_type": "markdown",
   "id": "2aa22417-2ec9-4c07-a1b5-1147f6cdb510",
   "metadata": {},
   "source": [
    "## Reading the transect partitions that span our region of interest \n",
    "\n",
    "We will read the data from cloud storage - but only the data that spans our region of interest (the DynamicMap above). "
   ]
  },
  {
   "cell_type": "markdown",
   "id": "cc39ba52-02d0-4644-8f7d-99d0137d033f",
   "metadata": {},
   "source": [
    "## Dask dataframes are lazy\n",
    "\n",
    "These dataframes are not in memory yet. We still have to trigger the compute (see cell below)"
   ]
  },
  {
   "cell_type": "code",
   "execution_count": null,
   "id": "b8e12b6b-1dc3-4dad-8775-dddcdffd19d0",
   "metadata": {
    "tags": []
   },
   "outputs": [],
   "source": [
    "dask_geopandas.read_parquet(hrefs, storage_options=storage_options)"
   ]
  },
  {
   "cell_type": "markdown",
   "id": "80a4ea84-3da7-4229-8f33-a270626affeb",
   "metadata": {},
   "source": [
    "## Compute the transects that span our region of interest\n",
    "\n",
    "The transects are not in memory yet. In the next cell we will trigger the retrieval from cloud storage to local client by doing a `ddf.compute()` call. "
   ]
  },
  {
   "cell_type": "code",
   "execution_count": null,
   "id": "516ba2a9-3f79-4d02-8a3d-fcf62b2bccf1",
   "metadata": {
    "tags": []
   },
   "outputs": [],
   "source": [
    "%%time\n",
    "from dask.dataframe.utils import make_meta\n",
    "\n",
    "transects = dask_geopandas.read_parquet(hrefs, storage_options=storage_options)\n",
    "transects_roi = (\n",
    "    transects.sjoin(roi.to_crs(transects.crs)).drop(columns=[\"index_right\"]).compute()\n",
    ")\n",
    "\n",
    "transects_roi.head()"
   ]
  }
 ],
 "metadata": {
  "kernelspec": {
   "display_name": "Python [conda env:coastal] *",
   "language": "python",
   "name": "conda-env-coastal-py"
  },
  "language_info": {
   "codemirror_mode": {
    "name": "ipython",
    "version": 3
   },
   "file_extension": ".py",
   "mimetype": "text/x-python",
   "name": "python",
   "nbconvert_exporter": "python",
   "pygments_lexer": "ipython3",
   "version": "3.12.3"
  }
 },
 "nbformat": 4,
 "nbformat_minor": 5
}
