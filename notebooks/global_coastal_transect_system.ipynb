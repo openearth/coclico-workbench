{
 "cells": [
  {
   "cell_type": "markdown",
   "id": "2b0c68db-fe09-425f-bbd2-56d77335d38c",
   "metadata": {},
   "source": [
    "# Global Coastal Transect System\n",
    "\n",
    "Cross-shore coastal transects are essential to coastal monitoring, offering a consistent reference line to measure coastal change, while providing a robust foundation to map coastal characteristics and derive coastal statistics thereof. The Global Coastal Transect System consists of more than 11 million cross-shore coastal transects uniformly spaced at 100-m intervals alongshore, for all OpenStreetMap coastlines that are longer than 5 kilometers. The dataset is more extensively described in Enabling Coastal Analytics at Planetary Scale (Calkoen et al., in progress). "
   ]
  },
  {
   "cell_type": "code",
   "execution_count": null,
   "id": "5d2e6d5c-1563-46bf-880a-c0345bbfa528",
   "metadata": {},
   "outputs": [],
   "source": [
    "import os\n",
    "\n",
    "import dask\n",
    "\n",
    "dask.config.set({\"dataframe.query-planning\": False})\n",
    "import dask_geopandas\n",
    "import fsspec\n",
    "import geopandas as gpd\n",
    "import hvplot.pandas\n",
    "import pandas as pd\n",
    "import pystac\n",
    "import shapely\n",
    "import stac_geoparquet\n",
    "from dotenv import load_dotenv\n",
    "from ipyleaflet import Map, basemaps\n",
    "\n",
    "load_dotenv(override=True)\n",
    "\n",
    "sas_token = os.getenv(\"AZURE_STORAGE_SAS_TOKEN\")\n",
    "account_name = \"coclico\"\n",
    "storage_options = {\"account_name\": account_name, \"credential\": sas_token}"
   ]
  },
  {
   "cell_type": "markdown",
   "id": "69d58238-05c3-40c8-b753-3901f649ea6b",
   "metadata": {},
   "source": [
    "## Connect to the CoCliCo STAC "
   ]
  },
  {
   "cell_type": "code",
   "execution_count": null,
   "id": "1a2ec243-beaa-4493-9c94-4160246cc640",
   "metadata": {},
   "outputs": [],
   "source": [
    "coclico_catalog = pystac.Catalog.from_file(\n",
    "    \"https://coclico.blob.core.windows.net/stac/v1/catalog.json\"\n",
    ")\n",
    "coclico_catalog"
   ]
  },
  {
   "cell_type": "code",
   "execution_count": null,
   "id": "3b13084c-06a8-4397-b173-ab4224c93a08",
   "metadata": {
    "tags": []
   },
   "outputs": [],
   "source": [
    "gcts = coclico_catalog.get_child(\"gcts\")\n",
    "gcts"
   ]
  },
  {
   "cell_type": "markdown",
   "id": "2c2b1493-a005-4938-9ff4-ec4301c7502c",
   "metadata": {},
   "source": [
    "## The dataset is geospatially partitioned"
   ]
  },
  {
   "cell_type": "code",
   "execution_count": null,
   "id": "2c64c44d-5b7a-483c-b679-8ab75d9a7049",
   "metadata": {
    "tags": []
   },
   "outputs": [],
   "source": [
    "extents_uri = gcts.assets[\"geoparquet-stac-items\"].href\n",
    "with fsspec.open(extents_uri, **storage_options) as f:\n",
    "    extents = gpd.read_parquet(f)\n",
    "extents[\"href\"] = extents.assets.map(lambda x: x[\"data\"][\"href\"])"
   ]
  },
  {
   "cell_type": "markdown",
   "id": "7daeb662",
   "metadata": {},
   "source": [
    "### Use a dynamic map to extract data by region of interest\n",
    "\n",
    "The IPyleaflet map below can be used to find the bbox coordinates of a certain region.\n",
    "Zoom to the area where you want to extract data and run the next cell. Please wait until the map is rendered; otherwise the coordinates cannot be extracted. "
   ]
  },
  {
   "cell_type": "code",
   "execution_count": null,
   "id": "51e12c5b-27a3-4a0c-8ad9-0e92c427d7c8",
   "metadata": {
    "scrolled": true,
    "tags": []
   },
   "outputs": [],
   "source": [
    "m = Map(basemap=basemaps.Esri.WorldImagery, scroll_wheel_zoom=True)\n",
    "m.center = 41.735966575868716, -70.10032653808595\n",
    "m.zoom = 9\n",
    "m.layout.height = \"800px\"\n",
    "m"
   ]
  },
  {
   "cell_type": "code",
   "execution_count": null,
   "id": "5085cbb9-95f1-4a1f-9ea5-fe5ec79e9365",
   "metadata": {
    "tags": []
   },
   "outputs": [],
   "source": [
    "west, south, east, north = m.west, m.south, m.east, m.north\n",
    "roi = gpd.GeoDataFrame(\n",
    "    geometry=[shapely.geometry.box(west, south, east, north)], crs=4326\n",
    ")"
   ]
  },
  {
   "cell_type": "markdown",
   "id": "6f74702b-818c-44c6-b697-18ac34ba0a86",
   "metadata": {},
   "source": [
    "## Find the data partitions that span the region of interest"
   ]
  },
  {
   "cell_type": "code",
   "execution_count": null,
   "id": "442e1f28-f425-4079-83f2-f5fa06638da8",
   "metadata": {},
   "outputs": [],
   "source": [
    "hrefs = gpd.sjoin(extents, roi).href.to_list()"
   ]
  },
  {
   "cell_type": "markdown",
   "id": "86044dd7-97f5-4360-b7d2-e3d2b53a1161",
   "metadata": {},
   "source": [
    "## Read the data from cloud storage"
   ]
  },
  {
   "cell_type": "code",
   "execution_count": null,
   "id": "3ccee875-c4cd-407a-9373-8e2485b543ad",
   "metadata": {},
   "outputs": [],
   "source": [
    "transects = dask_geopandas.read_parquet(hrefs, storage_options=storage_options)\n",
    "transects = (\n",
    "    transects.sjoin(roi.to_crs(transects.crs)).drop(columns=[\"index_right\"]).compute()\n",
    ")\n",
    "\n",
    "transects.head()"
   ]
  },
  {
   "cell_type": "code",
   "execution_count": null,
   "id": "e8588018-5af8-4b08-971a-41fb182cb43c",
   "metadata": {},
   "outputs": [],
   "source": []
  },
  {
   "cell_type": "code",
   "execution_count": null,
   "id": "c8596140-a42a-43c8-8441-dc954e4dd61c",
   "metadata": {},
   "outputs": [],
   "source": []
  }
 ],
 "metadata": {
  "kernelspec": {
   "display_name": "Python [conda env:coastal] *",
   "language": "python",
   "name": "conda-env-coastal-py"
  },
  "language_info": {
   "codemirror_mode": {
    "name": "ipython",
    "version": 3
   },
   "file_extension": ".py",
   "mimetype": "text/x-python",
   "name": "python",
   "nbconvert_exporter": "python",
   "pygments_lexer": "ipython3",
   "version": "3.12.3"
  }
 },
 "nbformat": 4,
 "nbformat_minor": 5
}
