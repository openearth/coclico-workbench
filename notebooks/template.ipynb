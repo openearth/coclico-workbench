{
 "cells": [
  {
   "cell_type": "markdown",
   "id": "0",
   "metadata": {},
   "source": [
    "# CoCliCo Workbench Notebook Template\n",
    "\n"
   ]
  },
  {
   "cell_type": "code",
   "execution_count": null,
   "id": "1",
   "metadata": {},
   "outputs": [],
   "source": [
    "# use black code formatter\n",
    "%load_ext lab_black"
   ]
  },
  {
   "cell_type": "markdown",
   "id": "2",
   "metadata": {},
   "source": [
    "### Configure Python Path\n",
    "\n",
    "By appending the src directory to the Python path the python modules in that directory\n",
    "become importable in this notebook. "
   ]
  },
  {
   "cell_type": "code",
   "execution_count": null,
   "id": "3",
   "metadata": {},
   "outputs": [],
   "source": [
    "import pathlib\n",
    "import sys\n",
    "\n",
    "cwd = pathlib.Path().resolve()\n",
    "proj_root = cwd.parent\n",
    "src_dir = proj_root.joinpath(\"src\")\n",
    "sys.path.append(str(src_dir))"
   ]
  },
  {
   "cell_type": "markdown",
   "id": "4",
   "metadata": {},
   "source": [
    "### Example of importing functionalities from `coclico` module\n",
    "\n",
    "Import a function to create a global box system following the mapbox slippy tile conventions. "
   ]
  },
  {
   "cell_type": "code",
   "execution_count": null,
   "id": "5",
   "metadata": {},
   "outputs": [],
   "source": [
    "from coclico.utils.boxes import make_boxes\n",
    "\n",
    "boxes = make_boxes(zoom_level=7, dst_crs=\"epsg:4326\")"
   ]
  },
  {
   "cell_type": "markdown",
   "id": "6",
   "metadata": {},
   "source": [
    "Use the natural earth (low resolution) from geopandas to keep only the boxes that cover\n",
    "the European continent. Please note, there some islands might miss because they are note\n",
    "covered in this lowe resolution natural earth layer. "
   ]
  },
  {
   "cell_type": "code",
   "execution_count": null,
   "id": "7",
   "metadata": {},
   "outputs": [],
   "source": [
    "import geopandas as gpd\n",
    "\n",
    "\n",
    "world = gpd.read_file(gpd.datasets.get_path(\"naturalearth_lowres\"))\n",
    "europe = world.loc[(world.continent == \"Europe\") & (world.name != \"Russia\")]\n",
    "boxes = gpd.sjoin(boxes, europe)[[\"box_id\", \"geometry\"]]\n",
    "boxes.explore()"
   ]
  },
  {
   "cell_type": "code",
   "execution_count": null,
   "id": "8",
   "metadata": {},
   "outputs": [],
   "source": []
  }
 ],
 "metadata": {
  "interpreter": {
   "hash": "d52b8dfbdab1c939c3c4b10b0d762f4c8139583e350f28e123ee37db8f80dd50"
  },
  "kernelspec": {
   "display_name": "Python 3.10.4 ('base')",
   "language": "python",
   "name": "python3"
  },
  "language_info": {
   "codemirror_mode": {
    "name": "ipython",
    "version": 3
   },
   "file_extension": ".py",
   "mimetype": "text/x-python",
   "name": "python",
   "nbconvert_exporter": "python",
   "pygments_lexer": "ipython3",
   "version": "3.10.4"
  }
 },
 "nbformat": 4,
 "nbformat_minor": 5
}
