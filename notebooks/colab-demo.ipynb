{
 "cells": [
  {
   "cell_type": "markdown",
   "id": "7fd0662f-d6ca-4fd2-97fe-3806ff4f90e9",
   "metadata": {},
   "source": [
    "# Connect to CoCliCo workbench from Colab notebook\n",
    "\n",
    "Connecting to colab is still a bit buggy because colab doesn't have a conda package manager, while we need quite some geospatial libraries, all with their own dependencies. Managing such environment with pip is tricky. "
   ]
  },
  {
   "cell_type": "markdown",
   "id": "1b061f3e-9104-4031-8178-e5ec6cdbaad1",
   "metadata": {},
   "source": [
    "## Clone repository to colab contents directory "
   ]
  },
  {
   "cell_type": "code",
   "execution_count": null,
   "id": "a5beb9f4-7420-423f-9d39-dbfcfd99a10f",
   "metadata": {},
   "outputs": [],
   "source": [
    "%%bash\n",
    "\n",
    "cd /content\n",
    "if [ ! -d coclico-workbench ];then \n",
    "  git clone https://github.com/openearth/coclico-workbench.git\n",
    "fi\n",
    "cd /content/coclico-workbench/notebooks\n",
    "pwd"
   ]
  },
  {
   "cell_type": "markdown",
   "id": "1e32f661-5f9e-4d3d-b279-43e36828038d",
   "metadata": {},
   "source": [
    "## Add src directory with coclico functions to path"
   ]
  },
  {
   "cell_type": "code",
   "execution_count": null,
   "id": "f151b6d8-923d-4849-a76e-cadf45c61fac",
   "metadata": {},
   "outputs": [],
   "source": [
    "import os\n",
    "import pathlib\n",
    "import sys\n",
    "\n",
    "try:\n",
    "    import google.colab\n",
    "\n",
    "    IN_COLAB = True\n",
    "except:\n",
    "    IN_COLAB = False\n",
    "\n",
    "# make coclico library importable by appending src from project root to path\n",
    "cwd = pathlib.Path().resolve()\n",
    "PROJ_ROOT = os.path.dirname(cwd)\n",
    "\n",
    "sys.path.append(os.path.join(PROJ_ROOT, \"src\"))"
   ]
  },
  {
   "cell_type": "markdown",
   "id": "3d1b12e3-ef5b-4df4-b5e3-612641556397",
   "metadata": {},
   "source": [
    "## Install conda within colab to manage packages\n",
    "\n",
    "Conda install works, but not sure if packages are installed correctly. "
   ]
  },
  {
   "cell_type": "code",
   "execution_count": null,
   "id": "1072e621-fa5e-4bb9-9f50-515899bd46da",
   "metadata": {},
   "outputs": [],
   "source": [
    "%%bash\n",
    "\n",
    "MINICONDA_INSTALLER_SCRIPT=Miniconda3-latest-Linux-x86_64.sh\n",
    "MINICONDA_PREFIX=/usr/local\n",
    "wget https://repo.continuum.io/miniconda/$MINICONDA_INSTALLER_SCRIPT\n",
    "chmod +x $MINICONDA_INSTALLER_SCRIPT\n",
    "./$MINICONDA_INSTALLER_SCRIPT -b -f -p $MINICONDA_PREFIX"
   ]
  },
  {
   "cell_type": "code",
   "execution_count": null,
   "id": "44f4251d-ac73-4676-a527-d07893823ac0",
   "metadata": {},
   "outputs": [],
   "source": [
    "!which conda"
   ]
  },
  {
   "cell_type": "code",
   "execution_count": null,
   "id": "eab632e4-7062-4655-93fb-3af182813c61",
   "metadata": {},
   "outputs": [],
   "source": [
    "%%bash\n",
    "\n",
    "conda install --channel defaults conda python=3.9 --yes\n",
    "conda update --channel defaults --all --yes"
   ]
  },
  {
   "cell_type": "code",
   "execution_count": null,
   "id": "28b36b6c-dad1-44a8-a27d-a6034ad27555",
   "metadata": {},
   "outputs": [],
   "source": [
    "!conda install -c conda-forge geopandas dask-geopandas pystac-client rasterio rioxarray mapclassify gcsfs"
   ]
  },
  {
   "cell_type": "markdown",
   "id": "06af3f36-a901-4d2c-9dfc-c90fdc610b36",
   "metadata": {},
   "source": [
    "## Now we should be able to import some libraries.."
   ]
  },
  {
   "cell_type": "code",
   "execution_count": null,
   "id": "af8e8a24",
   "metadata": {},
   "outputs": [],
   "source": [
    "import dask\n",
    "import dask_geopandas\n",
    "import geopandas as gpd\n",
    "import matplotlib.pyplot as plt\n",
    "import numpy as np\n",
    "import pandas as pd\n",
    "import pystac_client\n",
    "import rasterio\n",
    "import rioxarray\n",
    "import shapely\n",
    "import xarray as xr"
   ]
  }
 ],
 "metadata": {
  "kernelspec": {
   "display_name": "Python 3 (ipykernel)",
   "language": "python",
   "name": "python3"
  },
  "language_info": {
   "codemirror_mode": {
    "name": "ipython",
    "version": 3
   },
   "file_extension": ".py",
   "mimetype": "text/x-python",
   "name": "python",
   "nbconvert_exporter": "python",
   "pygments_lexer": "ipython3",
   "version": "3.10.6"
  },
  "vscode": {
   "interpreter": {
    "hash": "c0ebfe0da1198dfcf84fb64f221c7b7e35641f7728e9dc12fbc80e97aca2df12"
   }
  }
 },
 "nbformat": 4,
 "nbformat_minor": 5
}
