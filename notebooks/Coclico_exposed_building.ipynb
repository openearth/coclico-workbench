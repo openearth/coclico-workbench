{
 "cells": [
  {
   "cell_type": "markdown",
   "metadata": {},
   "source": [
    "## Coclico exposed building"
   ]
  },
  {
   "cell_type": "markdown",
   "metadata": {},
   "source": [
    "This workbench allows for visualizing the trend in the number of buildings affected by coastal flooding.This notebook requires the list of LAU_IDs, either a single value or multiple if selecting a larger unit, as well as the choice of return period."
   ]
  },
  {
   "cell_type": "markdown",
   "metadata": {},
   "source": [
    "Import"
   ]
  },
  {
   "cell_type": "code",
   "execution_count": null,
   "metadata": {},
   "outputs": [],
   "source": [
    "\n",
    "import pandas as pd\n",
    "import matplotlib.pyplot as plt\n",
    "import pystac_client\n",
    "import geopandas as gpd\n",
    "\n",
    "\n",
    "\n",
    "\n",
    "\n",
    "\n",
    "\n"
   ]
  },
  {
   "cell_type": "markdown",
   "metadata": {},
   "source": [
    "CoCliCo stack catalog (Links to the files produced by WP6)"
   ]
  },
  {
   "cell_type": "code",
   "execution_count": null,
   "metadata": {},
   "outputs": [],
   "source": [
    "# load the CoCliCo STAC catalog\n",
    "catalog = pystac_client.Client.open(\n",
    "    \"https://storage.googleapis.com/coclico-data-public/coclico/coclico-stac/catalog.json\"\n",
    ")\n",
    "# catalog\n",
    "\n",
    "# list the datasets present in the catalog, we are interested in the slp5 and slp6 sets\n",
    "list(catalog.get_children())"
   ]
  },
  {
   "cell_type": "code",
   "execution_count": null,
   "metadata": {},
   "outputs": [],
   "source": [
    "3\n",
    "href = catalog.get_child(\"ssl\").assets[\"data\"].href#change for new data of vincent"
   ]
  },
  {
   "cell_type": "markdown",
   "metadata": {},
   "source": [
    "Define parameter:\n",
    "- study zone (LAU ID)\n",
    "-scenario of coastal flood\n"
   ]
  },
  {
   "cell_type": "code",
   "execution_count": null,
   "metadata": {},
   "outputs": [],
   "source": [
    "\n",
    "studyzone=[]#list of LAU ID\n",
    "scenariocoastalflood=\"rp1ud\"#"
   ]
  },
  {
   "cell_type": "markdown",
   "metadata": {},
   "source": [
    "filter dataset"
   ]
  },
  {
   "cell_type": "code",
   "execution_count": null,
   "metadata": {},
   "outputs": [],
   "source": [
    "def filter(df):\n",
    "    build=df.loc[df['level_0'].isin(['building', 'healthcare', 'education'])]\n",
    "    return df\n"
   ]
  },
  {
   "cell_type": "markdown",
   "metadata": {},
   "source": [
    "creat a dataframe with just the data to draw"
   ]
  },
  {
   "cell_type": "code",
   "execution_count": null,
   "metadata": {},
   "outputs": [],
   "source": [
    "def creatdf(df,studyzone,scenariocoastalflood):\n",
    "    zonestudy=[]\n",
    "    year=[2010,2030,2050,2100]\n",
    "    scenario=['SSP1','SSP2','SSP5']\n",
    "    data=[]\n",
    "    namecolumns=[\"year\",\"scenario\",\"value\"]\n",
    "    for years in year:\n",
    "        for scenarios in scenario:\n",
    "            sum=0\n",
    "            for zone in zonestudy:\n",
    "                value = df.loc[zone, (scenariocoastalflood,scenarios, years,)]\n",
    "                sum=sum+value\n",
    "            data.append([years,scenario,sum])\n",
    "\n",
    "    df = pd.DataFrame(data,columns=namecolumns)\n",
    "    return df"
   ]
  },
  {
   "cell_type": "code",
   "execution_count": null,
   "metadata": {},
   "outputs": [],
   "source": [
    "# data\n",
    "\n",
    "#open file\n",
    "df=gpd.read_parquet(href)\n",
    "#df=open(....)\n",
    "\n",
    "df=filter(df)\n",
    "df=creatdf(df,studyzone,scenariocoastalflood)\n",
    "\n",
    "\n",
    "\n",
    "\n",
    "\n",
    "\n",
    "# colors of scenario\n",
    "colors_rgb = {\n",
    "    'SSP1': (1.0, 0.0, 0.0),   # Rouge\n",
    "    'SSP2': (0.0, 0.0, 1.0),   # Bleu\n",
    "    'SSP5': (0.0, 1.0, 0.0),   # Vert\n",
    "}\n",
    "\n",
    "\n",
    "fig, ax = plt.subplots()\n",
    "\n",
    "# for each scenario draw each point\n",
    "for scenario in df['scenario'].unique():\n",
    "    subset = df[df['scenario'] == scenario]\n",
    "    ax.scatter(subset['year'], subset['value'], color=colors_rgb[scenario], label=scenario)\n",
    "\n",
    "# information on axe x\n",
    "ax.set_xticks([2010, 2030, 2050, 2100])\n",
    "ax.set_xlim(2000, 2100)\n",
    "ax.set_xlabel('Time horizon')\n",
    "\n",
    "# information on axe x\n",
    "ax.set_ylabel('number of buildings')\n",
    "\n",
    "# display legend\n",
    "ax.legend()\n",
    "\n",
    "# display graph\n",
    "plt.title('Number of Buildings over Time')\n",
    "plt.grid(True)  # Afficher la grille pour mieux visualiser les points\n",
    "plt.show()\n"
   ]
  }
 ],
 "metadata": {
  "kernelspec": {
   "display_name": "Python 3",
   "language": "python",
   "name": "python3"
  },
  "language_info": {
   "codemirror_mode": {
    "name": "ipython",
    "version": 3
   },
   "file_extension": ".py",
   "mimetype": "text/x-python",
   "name": "python",
   "nbconvert_exporter": "python",
   "pygments_lexer": "ipython3",
   "version": "3.12.3"
  }
 },
 "nbformat": 4,
 "nbformat_minor": 2
}
