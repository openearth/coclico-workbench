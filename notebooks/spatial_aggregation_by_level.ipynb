{
 "cells": [
  {
   "cell_type": "markdown",
   "id": "9a77ab51",
   "metadata": {},
   "source": []
  },
  {
   "cell_type": "markdown",
   "id": "6b8389e6",
   "metadata": {},
   "source": [
    "# Spatial aggregation by level"
   ]
  },
  {
   "cell_type": "markdown",
   "id": "dec2b228",
   "metadata": {},
   "source": [
    "This notebook allows to compile the results of the person exposed building exposed and cost platform on a larger scale (nuts2 nuts1)"
   ]
  },
  {
   "cell_type": "markdown",
   "id": "48d6f450",
   "metadata": {},
   "source": [
    "## gives the results on a larger scale"
   ]
  },
  {
   "cell_type": "markdown",
   "id": "19fb7e2c",
   "metadata": {},
   "source": [
    "### install the libraries"
   ]
  },
  {
   "cell_type": "code",
   "execution_count": null,
   "id": "d292e45a",
   "metadata": {},
   "outputs": [],
   "source": [
    "import pandas as pd\n",
    "import os\n",
    "from urllib.parse import urlparse\n",
    "import requests"
   ]
  },
  {
   "cell_type": "markdown",
   "id": "67df0d81",
   "metadata": {},
   "source": [
    "What information are you looking for?"
   ]
  },
  {
   "cell_type": "code",
   "execution_count": null,
   "id": "2f064e29",
   "metadata": {},
   "outputs": [],
   "source": [
    "value_type = \"number\"# The possible values are population, number or cost\n",
    "nuts_value = \"DEF0\"\n",
    "year = \"2100\"# The possible values are 2010 , 2030, 2050, 2100\n",
    "rp=\"100\"# The possible values are static, 1, 100 or 1000\n",
    "defense=\"HIGH_DEFENDED\" # The possible values are HIGH_DEFENDED, LOW_DEFENDED or UNDEFENDED\n",
    "ssp=\"SSP126\" # The possible values are SSP126, SSP245 or SSP585"
   ]
  },
  {
   "cell_type": "markdown",
   "id": "d7788456",
   "metadata": {},
   "source": [
    "connection to the catalog and download of the file"
   ]
  },
  {
   "cell_type": "code",
   "execution_count": null,
   "id": "db4c68a8",
   "metadata": {},
   "outputs": [],
   "source": [
    "\n",
    "defense=defense+\"_MAPS\"\n",
    "\n",
    "if value_type == \"population\":\n",
    "    path=\"https://storage.googleapis.com/coclico-data-public/coclico/pp_stats/map_stats/\"+defense+\"/\"+rp+\"/\"+ssp+\"/pop_stats_\"+defense+\"_\"+rp+\"_\"+ssp+\"_\"+year+\".parquet\"\n",
    "    local_path = \"CoCliCo_data/people.parquet\"\n",
    "    response = requests.get(path)\n",
    "    with open(local_path, \"wb\") as f:\n",
    "        f.write(response.content)\n",
    "    colum=\"abs_affected\"\n",
    "elif value_type == \"number\":\n",
    "    path=\"https://storage.googleapis.com/coclico-data-public/coclico/be_stats/map_stats/\"+defense+\"/\"+rp+\"/\"+ssp+\"/be_stats_\"+defense+\"_\"+rp+\"_\"+ssp+\"_\"+year+\".parquet\"\n",
    "    local_path = \"CoCliCo_data/number.parquet\"\n",
    "    response = requests.get(path)\n",
    "    with open(local_path, \"wb\") as f:\n",
    "        f.write(response.content)  \n",
    "    colum=\"abs_affected\"       \n",
    "elif value_type == \"cost\":\n",
    "    path = \"https://storage.googleapis.com/coclico-data-public/coclico/bc_stats/bc_stats.parquet\"\n",
    "    local_path = \"CoCliCo_data/cost.parquet\"\n",
    "    response = requests.get(path)\n",
    "    with open(local_path, \"wb\") as f:\n",
    "        f.write(response.content)\n",
    "    colum=defense+\"\\\\\"+rp+\"\\\\\"+ssp+\"\\\\\"+year+\"\\\\buildings\"\n",
    "\n",
    "\n",
    "else:\n",
    "    raise ValueError(f\"Unknown value_type '{value_type}'\")\n"
   ]
  },
  {
   "cell_type": "markdown",
   "id": "95c4837f",
   "metadata": {},
   "source": [
    "defines what scale is requested"
   ]
  },
  {
   "cell_type": "code",
   "execution_count": null,
   "id": "b7e44ddf",
   "metadata": {},
   "outputs": [],
   "source": [
    "def detect_scale(code, df):\n",
    "    \"\"\"\n",
    "    Detects the scale  of the given code.\n",
    "    \"\"\"\n",
    "    if code in df['CNTR_CODE'].values:\n",
    "        return 'CNTR_CODE'\n",
    "    elif code in df['nuts_2'].values:\n",
    "        return 'nuts_2'\n",
    "    elif code in df['nuts_3'].values:\n",
    "        return 'nuts_3'\n",
    "    else:\n",
    "        return 'unknown'\n"
   ]
  },
  {
   "cell_type": "code",
   "execution_count": null,
   "id": "1c5b6f60",
   "metadata": {},
   "outputs": [
    {
     "name": "stdout",
     "output_type": "stream",
     "text": [
      "nuts_2\n",
      "  nuts_2  abs_affected\n",
      "0   DEF0       36120.0\n"
     ]
    }
   ],
   "source": [
    "df=pd.read_parquet(local_path)\n",
    "scale=detect_scale(nuts_value,df)\n",
    "print(scale)\n",
    "filtered = df[df[scale] == nuts_value]\n",
    "summary = filtered.groupby(scale)[colum].sum().reset_index()\n",
    "print(summary)"
   ]
  }
 ],
 "metadata": {
  "kernelspec": {
   "display_name": "coclico",
   "language": "python",
   "name": "python3"
  },
  "language_info": {
   "codemirror_mode": {
    "name": "ipython",
    "version": 3
   },
   "file_extension": ".py",
   "mimetype": "text/x-python",
   "name": "python",
   "nbconvert_exporter": "python",
   "pygments_lexer": "ipython3",
   "version": "3.12.11"
  }
 },
 "nbformat": 4,
 "nbformat_minor": 5
}
