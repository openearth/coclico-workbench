{
 "cells": [
  {
   "cell_type": "markdown",
   "id": "b8d2e025",
   "metadata": {},
   "source": [
    "importation des librairie"
   ]
  },
  {
   "cell_type": "code",
   "execution_count": 6,
   "id": "55cfde11",
   "metadata": {},
   "outputs": [],
   "source": [
    "import pandas as pd\n",
    "import geopandas as gpd\n",
    "import numpy as np\n",
    "import rasterio    \n",
    "import tempfile\n",
    "import argparse\n",
    "import gc\n",
    "from shapely.geometry import shape\n",
    "gc.collect()\n",
    "import geopandas as gpd\n",
    "import gcsfs\n",
    "import rasterio\n",
    "import numpy as np\n",
    "import geopandas as gpd\n",
    "import geopandas as gpd\n",
    "from shapely.ops import substring\n",
    "from rasterio.warp import calculate_default_transform, reproject, Resampling\n",
    "from rasterio.enums import Resampling\n"
   ]
  },
  {
   "cell_type": "markdown",
   "id": "df120d93",
   "metadata": {},
   "source": [
    "parametre"
   ]
  },
  {
   "cell_type": "code",
   "execution_count": 7,
   "id": "b6154c07",
   "metadata": {},
   "outputs": [],
   "source": [
    "sizesplit = 100  # size to split roads\n",
    "pathflood=\"CoCliCo_data/DCS1_TWL5.tif\"# PATH to the coastal flooding raster file, The file must be in .tif format (GeoTIFF)."
   ]
  },
  {
   "cell_type": "markdown",
   "id": "71a7885b",
   "metadata": {},
   "source": [
    "fonction"
   ]
  },
  {
   "cell_type": "code",
   "execution_count": 8,
   "id": "ba806cbb",
   "metadata": {},
   "outputs": [],
   "source": [
    "\n",
    "def split_line(line, max_length=500): \n",
    "    if line.length <= max_length:\n",
    "        return [line]\n",
    "    segments = []\n",
    "    start = 0.0\n",
    "    while start < line.length:\n",
    "        end = min(start + max_length, line.length)\n",
    "        segment = substring(line, start, end)  \n",
    "        segments.append(segment)\n",
    "        start = end\n",
    "    return segments\n",
    "\n",
    "def split2(gdf, max_length=500): \n",
    "    new_geometries = []\n",
    "    new_attributes = []\n",
    "    for _, row in gdf.iterrows():\n",
    "        line = row['geometry']\n",
    "        segments = split_line(line, max_length=max_length)\n",
    "        for segment in segments:\n",
    "            new_geometries.append(segment)\n",
    "            new_attributes.append(row.drop('geometry'))\n",
    "    return gpd.GeoDataFrame(new_attributes, geometry=new_geometries, crs=gdf.crs)\n",
    "\n",
    "\n",
    "def modify_raster(input_raster_path): \n",
    "    with rasterio.open(input_raster_path) as src:\n",
    "        raster_data = src.read(1) \n",
    "        nodata_value = src.nodata\n",
    "        modified_data = np.full(raster_data.shape, np.nan, dtype=rasterio.float32)\n",
    "        if nodata_value is not None:\n",
    "            valid_mask = raster_data != nodata_value\n",
    "            modified_data[valid_mask] = 1\n",
    "        else:\n",
    "            valid_mask = ~np.isnan(raster_data)\n",
    "            modified_data[valid_mask] = 1\n",
    "        return modified_data\n",
    "\n",
    "\n",
    "def raster_value_to_shapefile(raster_path, target_value=1):\n",
    "    with rasterio.open(raster_path) as src:\n",
    "        raster_data = src.read(1)\n",
    "        transform = src.transform\n",
    "        crs = src.crs\n",
    "        nodata = src.nodata\n",
    "        shapes_and_values = rasterio.features.shapes(raster_data, transform=transform)\n",
    "        geometries = []\n",
    "        for geom, value in shapes_and_values:\n",
    "            if value == target_value:  \n",
    "                geometries.append({\n",
    "                    'geometry': shape(geom),\n",
    "                    'properties': {'value': value}\n",
    "                })\n",
    "        \n",
    "        gdf = gpd.GeoDataFrame(geometries, crs=crs)\n",
    "        return gdf\n",
    "    \n",
    "def reproject_raster(input_raster, target_crs=\"EPSG:3035\"):\n",
    "    with rasterio.open(input_raster) as src:\n",
    "        transform, width, height = calculate_default_transform(\n",
    "            src.crs, target_crs, src.width, src.height, *src.bounds)\n",
    "        kwargs = src.meta.copy()\n",
    "        kwargs.update({\n",
    "            'crs': target_crs,\n",
    "            'transform': transform,\n",
    "            'width': width,\n",
    "            'height': height\n",
    "        })\n",
    "        output_raster = input_raster.replace(\".tif\", \"_3035.tif\")\n",
    "        with rasterio.open(output_raster, 'w', **kwargs) as dst:\n",
    "            for i in range(1, src.count + 1):\n",
    "                reproject(\n",
    "                    source=rasterio.band(src, i),\n",
    "                    destination=rasterio.band(dst, i),\n",
    "                    src_transform=src.transform,\n",
    "                    src_crs=src.crs,\n",
    "                    dst_transform=transform,\n",
    "                    dst_crs=target_crs,\n",
    "                    resampling=Resampling.nearest\n",
    "                )\n",
    "        return output_raster\n",
    "\n",
    "\n",
    "def save_modified_raster(modified_data, transform, crs, output_path):\n",
    "    with rasterio.open(output_path, 'w', driver='GTiff', \n",
    "                       height=modified_data.shape[0], width=modified_data.shape[1],\n",
    "                       count=1, dtype=modified_data.dtype, crs=crs, transform=transform) as dst:\n",
    "        dst.write(modified_data, 1)\n",
    "\n",
    "\n",
    "        \n",
    "        \n",
    "\n"
   ]
  },
  {
   "cell_type": "markdown",
   "id": "e96bf3f3",
   "metadata": {},
   "source": [
    "liens des fichiers"
   ]
  },
  {
   "cell_type": "code",
   "execution_count": 9,
   "id": "f240bab2",
   "metadata": {},
   "outputs": [],
   "source": [
    "\n",
    "path = \"gs://coclico-data-public/coclico/LAU/LAU_2020_NUTS_2021_01M_3035.parquet\"\n",
    "local_path = \"CoCliCo_data/LAU.parquet\"\n",
    "fs = gcsfs.GCSFileSystem()\n",
    "fs.get(path, local_path)\n",
    "\n",
    "unitgeo=\"CoCliCo_data/LAU.parquet\"\n",
    "lau=gpd.read_parquet(unitgeo)\n",
    "pathflood= reproject_raster(pathflood)\n",
    "flood = modify_raster(pathflood)#\n",
    "with tempfile.NamedTemporaryFile(delete=False, suffix=\".tif\") as tmpfile:\n",
    "    temp_raster_path = tmpfile.name\n",
    "    with rasterio.open(pathflood) as src:\n",
    "        save_modified_raster(flood, src.transform, src.crs, temp_raster_path) \n",
    "    floodshp = raster_value_to_shapefile(temp_raster_path)\n",
    "intersection= gpd.overlay(lau, floodshp, how=\"intersection\")\n",
    "unique_values = intersection['nuts_2'].unique()"
   ]
  },
  {
   "cell_type": "code",
   "execution_count": 10,
   "id": "cffb3af1",
   "metadata": {},
   "outputs": [],
   "source": [
    "for i in range (len(unique_values)):\n",
    "    path = \"gs://coclico-data-public/coclico/ceed/\"\n",
    "    path=path+unique_values[i]+\"_CEED.parquet\"\n",
    "    local_path = \"CoCliCo_data/CEED/\"+unique_values[i]+\"_CEED.parquet\"\n",
    "    fs = gcsfs.GCSFileSystem()\n",
    "    fs.get(path, local_path)\n"
   ]
  },
  {
   "cell_type": "markdown",
   "id": "31b600cf",
   "metadata": {},
   "source": [
    "code"
   ]
  },
  {
   "cell_type": "code",
   "execution_count": 12,
   "id": "7a3d4c65",
   "metadata": {},
   "outputs": [
    {
     "name": "stdout",
     "output_type": "stream",
     "text": [
      "   FID_right        length\n",
      "0   FR_17004   2022.231964\n",
      "1   FR_17008   1800.000000\n",
      "2   FR_17010   7232.811682\n",
      "3   FR_17019  39401.891666\n",
      "4   FR_17021   1441.882645\n",
      "..       ...           ...\n",
      "59  FR_85255  37777.018789\n",
      "60  FR_85267   7671.820521\n",
      "61  FR_85294  28743.497832\n",
      "62  FR_85297  25154.859167\n",
      "63  FR_85307  24662.991319\n",
      "\n",
      "[64 rows x 2 columns]\n"
     ]
    }
   ],
   "source": [
    "stock=gpd.GeoDataFrame()\n",
    "\n",
    "for i in range (len(unique_values)):\n",
    "    local_path = \"CoCliCo_data/CEED/\"+unique_values[i]+\"_CEED.parquet\"\n",
    "    line=gpd.read_parquet(local_path)\n",
    "    line.reset_index(inplace=True)             \n",
    "    line=line[line[\"geometry\"].geom_type==\"LineString\"]\n",
    "    \n",
    "    line=line[line[\"level_0\"]==\"road\"]\n",
    "    line.drop(columns=['level_0'], inplace=True)\n",
    "    line=gpd.sjoin(line,intersection,how=\"inner\",predicate=\"intersects\")\n",
    "    (b,d)=line.shape\n",
    "    if b>0:\n",
    "        line=split2(line,sizesplit)\n",
    "        line[\"surfacecal\"]=line['geometry'].length\n",
    "        for df_ in [line, intersection]:\n",
    "            if 'index_right' in df_.columns:\n",
    "                df_.drop(columns='index_right', inplace=True)\n",
    "        line=gpd.sjoin(line,intersection,how=\"inner\",predicate=\"intersects\")\n",
    "        a = line.groupby('FID_right')['surfacecal'].sum().reset_index(name='length')\n",
    "        stock=gpd.GeoDataFrame(pd.concat([stock, a], ignore_index=True))\n",
    "stock=stock[[\"FID_right\",\"length\"]]        \n",
    "print(stock)"
   ]
  }
 ],
 "metadata": {
  "kernelspec": {
   "display_name": "coclicopost",
   "language": "python",
   "name": "python3"
  },
  "language_info": {
   "codemirror_mode": {
    "name": "ipython",
    "version": 3
   },
   "file_extension": ".py",
   "mimetype": "text/x-python",
   "name": "python",
   "nbconvert_exporter": "python",
   "pygments_lexer": "ipython3",
   "version": "3.12.11"
  }
 },
 "nbformat": 4,
 "nbformat_minor": 5
}
