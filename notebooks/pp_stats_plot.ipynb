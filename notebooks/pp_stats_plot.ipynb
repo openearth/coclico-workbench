{
 "cells": [
  {
   "cell_type": "code",
   "execution_count": 3,
   "metadata": {},
   "outputs": [],
   "source": [
    "## import packages\n",
    "import pystac_client\n",
    "import matplotlib.pyplot as plt\n",
    "import pandas as pd\n",
    "import seaborn as sns\n",
    "import geopandas as gpd\n",
    "import os"
   ]
  },
  {
   "cell_type": "code",
   "execution_count": 5,
   "metadata": {},
   "outputs": [
    {
     "name": "stderr",
     "output_type": "stream",
     "text": [
      "c:\\Users\\bonatz\\miniforge3\\envs\\coclico\\Lib\\site-packages\\pystac_client\\client.py:190: NoConformsTo: Server does not advertise any conformance classes.\n",
      "  warnings.warn(NoConformsTo())\n"
     ]
    },
    {
     "ename": "ArrowInvalid",
     "evalue": "Unrecognized filesystem type in URI: https://storage.googleapis.com/coclico-data-public/coclico/pp_stats/pop_fp_LAU_rel.parquet",
     "output_type": "error",
     "traceback": [
      "\u001b[1;31m---------------------------------------------------------------------------\u001b[0m",
      "\u001b[1;31mArrowInvalid\u001b[0m                              Traceback (most recent call last)",
      "File \u001b[1;32mc:\\Users\\bonatz\\miniforge3\\envs\\coclico\\Lib\\site-packages\\geopandas\\io\\arrow.py:653\u001b[0m, in \u001b[0;36m_read_parquet_schema_and_metadata\u001b[1;34m(path, filesystem)\u001b[0m\n\u001b[0;32m    652\u001b[0m \u001b[38;5;28;01mtry\u001b[39;00m:\n\u001b[1;32m--> 653\u001b[0m     schema \u001b[38;5;241m=\u001b[39m \u001b[43mparquet\u001b[49m\u001b[38;5;241;43m.\u001b[39;49m\u001b[43mParquetDataset\u001b[49m\u001b[43m(\u001b[49m\u001b[43mpath\u001b[49m\u001b[43m,\u001b[49m\u001b[43m \u001b[49m\u001b[43mfilesystem\u001b[49m\u001b[38;5;241;43m=\u001b[39;49m\u001b[43mfilesystem\u001b[49m\u001b[43m,\u001b[49m\u001b[43m \u001b[49m\u001b[38;5;241;43m*\u001b[39;49m\u001b[38;5;241;43m*\u001b[39;49m\u001b[43mkwargs\u001b[49m\u001b[43m)\u001b[49m\u001b[38;5;241m.\u001b[39mschema\n\u001b[0;32m    654\u001b[0m \u001b[38;5;28;01mexcept\u001b[39;00m \u001b[38;5;167;01mException\u001b[39;00m:\n",
      "File \u001b[1;32mc:\\Users\\bonatz\\miniforge3\\envs\\coclico\\Lib\\site-packages\\pyarrow\\parquet\\core.py:1348\u001b[0m, in \u001b[0;36mParquetDataset.__init__\u001b[1;34m(self, path_or_paths, filesystem, schema, filters, read_dictionary, memory_map, buffer_size, partitioning, ignore_prefixes, pre_buffer, coerce_int96_timestamp_unit, decryption_properties, thrift_string_size_limit, thrift_container_size_limit, page_checksum_verification, use_legacy_dataset)\u001b[0m\n\u001b[0;32m   1347\u001b[0m         filesystem \u001b[38;5;241m=\u001b[39m LocalFileSystem(use_mmap\u001b[38;5;241m=\u001b[39mmemory_map)\n\u001b[1;32m-> 1348\u001b[0m finfo \u001b[38;5;241m=\u001b[39m \u001b[43mfilesystem\u001b[49m\u001b[38;5;241;43m.\u001b[39;49m\u001b[43mget_file_info\u001b[49m\u001b[43m(\u001b[49m\u001b[43mpath_or_paths\u001b[49m\u001b[43m)\u001b[49m\n\u001b[0;32m   1349\u001b[0m \u001b[38;5;28;01mif\u001b[39;00m finfo\u001b[38;5;241m.\u001b[39mtype \u001b[38;5;241m==\u001b[39m FileType\u001b[38;5;241m.\u001b[39mDirectory:\n",
      "File \u001b[1;32mc:\\Users\\bonatz\\miniforge3\\envs\\coclico\\Lib\\site-packages\\pyarrow\\_fs.pyx:590\u001b[0m, in \u001b[0;36mpyarrow._fs.FileSystem.get_file_info\u001b[1;34m()\u001b[0m\n",
      "File \u001b[1;32mc:\\Users\\bonatz\\miniforge3\\envs\\coclico\\Lib\\site-packages\\pyarrow\\error.pxi:155\u001b[0m, in \u001b[0;36mpyarrow.lib.pyarrow_internal_check_status\u001b[1;34m()\u001b[0m\n",
      "File \u001b[1;32mc:\\Users\\bonatz\\miniforge3\\envs\\coclico\\Lib\\site-packages\\pyarrow\\error.pxi:92\u001b[0m, in \u001b[0;36mpyarrow.lib.check_status\u001b[1;34m()\u001b[0m\n",
      "\u001b[1;31mArrowInvalid\u001b[0m: Expected a local filesystem path, got a URI: 'https://storage.googleapis.com/coclico-data-public/coclico/pp_stats/pop_fp_LAU_rel.parquet'",
      "\nDuring handling of the above exception, another exception occurred:\n",
      "\u001b[1;31mArrowInvalid\u001b[0m                              Traceback (most recent call last)",
      "Cell \u001b[1;32mIn[5], line 9\u001b[0m\n\u001b[0;32m      6\u001b[0m collection \u001b[38;5;241m=\u001b[39m catalog\u001b[38;5;241m.\u001b[39mget_child(\u001b[38;5;28mid\u001b[39m \u001b[38;5;241m=\u001b[39m \u001b[38;5;124m'\u001b[39m\u001b[38;5;124mpp_stats\u001b[39m\u001b[38;5;124m'\u001b[39m)\n\u001b[0;32m      7\u001b[0m cloud_lau_path \u001b[38;5;241m=\u001b[39m collection\u001b[38;5;241m.\u001b[39massets[\u001b[38;5;124m'\u001b[39m\u001b[38;5;124mgeoparquet-stac-items\u001b[39m\u001b[38;5;124m'\u001b[39m]\u001b[38;5;241m.\u001b[39mhref\n\u001b[1;32m----> 9\u001b[0m df \u001b[38;5;241m=\u001b[39m \u001b[43mgpd\u001b[49m\u001b[38;5;241;43m.\u001b[39;49m\u001b[43mread_parquet\u001b[49m\u001b[43m(\u001b[49m\u001b[43mcloud_lau_path\u001b[49m\u001b[43m)\u001b[49m\n",
      "File \u001b[1;32mc:\\Users\\bonatz\\miniforge3\\envs\\coclico\\Lib\\site-packages\\geopandas\\io\\arrow.py:751\u001b[0m, in \u001b[0;36m_read_parquet\u001b[1;34m(path, columns, storage_options, bbox, **kwargs)\u001b[0m\n\u001b[0;32m    747\u001b[0m filesystem, path \u001b[38;5;241m=\u001b[39m _get_filesystem_path(\n\u001b[0;32m    748\u001b[0m     path, filesystem\u001b[38;5;241m=\u001b[39mfilesystem, storage_options\u001b[38;5;241m=\u001b[39mstorage_options\n\u001b[0;32m    749\u001b[0m )\n\u001b[0;32m    750\u001b[0m path \u001b[38;5;241m=\u001b[39m _expand_user(path)\n\u001b[1;32m--> 751\u001b[0m schema, metadata \u001b[38;5;241m=\u001b[39m \u001b[43m_read_parquet_schema_and_metadata\u001b[49m\u001b[43m(\u001b[49m\u001b[43mpath\u001b[49m\u001b[43m,\u001b[49m\u001b[43m \u001b[49m\u001b[43mfilesystem\u001b[49m\u001b[43m)\u001b[49m\n\u001b[0;32m    753\u001b[0m geo_metadata \u001b[38;5;241m=\u001b[39m _validate_and_decode_metadata(metadata)\n\u001b[0;32m    755\u001b[0m bbox_filter \u001b[38;5;241m=\u001b[39m (\n\u001b[0;32m    756\u001b[0m     _get_parquet_bbox_filter(geo_metadata, bbox) \u001b[38;5;28;01mif\u001b[39;00m bbox \u001b[38;5;129;01mis\u001b[39;00m \u001b[38;5;129;01mnot\u001b[39;00m \u001b[38;5;28;01mNone\u001b[39;00m \u001b[38;5;28;01melse\u001b[39;00m \u001b[38;5;28;01mNone\u001b[39;00m\n\u001b[0;32m    757\u001b[0m )\n",
      "File \u001b[1;32mc:\\Users\\bonatz\\miniforge3\\envs\\coclico\\Lib\\site-packages\\geopandas\\io\\arrow.py:655\u001b[0m, in \u001b[0;36m_read_parquet_schema_and_metadata\u001b[1;34m(path, filesystem)\u001b[0m\n\u001b[0;32m    653\u001b[0m     schema \u001b[38;5;241m=\u001b[39m parquet\u001b[38;5;241m.\u001b[39mParquetDataset(path, filesystem\u001b[38;5;241m=\u001b[39mfilesystem, \u001b[38;5;241m*\u001b[39m\u001b[38;5;241m*\u001b[39mkwargs)\u001b[38;5;241m.\u001b[39mschema\n\u001b[0;32m    654\u001b[0m \u001b[38;5;28;01mexcept\u001b[39;00m \u001b[38;5;167;01mException\u001b[39;00m:\n\u001b[1;32m--> 655\u001b[0m     schema \u001b[38;5;241m=\u001b[39m \u001b[43mparquet\u001b[49m\u001b[38;5;241;43m.\u001b[39;49m\u001b[43mread_schema\u001b[49m\u001b[43m(\u001b[49m\u001b[43mpath\u001b[49m\u001b[43m,\u001b[49m\u001b[43m \u001b[49m\u001b[43mfilesystem\u001b[49m\u001b[38;5;241;43m=\u001b[39;49m\u001b[43mfilesystem\u001b[49m\u001b[43m)\u001b[49m\n\u001b[0;32m    657\u001b[0m metadata \u001b[38;5;241m=\u001b[39m schema\u001b[38;5;241m.\u001b[39mmetadata\n\u001b[0;32m    659\u001b[0m \u001b[38;5;66;03m# read metadata separately to get the raw Parquet FileMetaData metadata\u001b[39;00m\n\u001b[0;32m    660\u001b[0m \u001b[38;5;66;03m# (pyarrow doesn't properly exposes those in schema.metadata for files\u001b[39;00m\n\u001b[0;32m    661\u001b[0m \u001b[38;5;66;03m# created by GDAL - https://issues.apache.org/jira/browse/ARROW-16688)\u001b[39;00m\n",
      "File \u001b[1;32mc:\\Users\\bonatz\\miniforge3\\envs\\coclico\\Lib\\site-packages\\pyarrow\\parquet\\core.py:2339\u001b[0m, in \u001b[0;36mread_schema\u001b[1;34m(where, memory_map, decryption_properties, filesystem)\u001b[0m\n\u001b[0;32m   2305\u001b[0m \u001b[38;5;28;01mdef\u001b[39;00m \u001b[38;5;21mread_schema\u001b[39m(where, memory_map\u001b[38;5;241m=\u001b[39m\u001b[38;5;28;01mFalse\u001b[39;00m, decryption_properties\u001b[38;5;241m=\u001b[39m\u001b[38;5;28;01mNone\u001b[39;00m,\n\u001b[0;32m   2306\u001b[0m                 filesystem\u001b[38;5;241m=\u001b[39m\u001b[38;5;28;01mNone\u001b[39;00m):\n\u001b[0;32m   2307\u001b[0m \u001b[38;5;250m    \u001b[39m\u001b[38;5;124;03m\"\"\"\u001b[39;00m\n\u001b[0;32m   2308\u001b[0m \u001b[38;5;124;03m    Read effective Arrow schema from Parquet file metadata.\u001b[39;00m\n\u001b[0;32m   2309\u001b[0m \n\u001b[1;32m   (...)\u001b[0m\n\u001b[0;32m   2337\u001b[0m \u001b[38;5;124;03m    animal: string\u001b[39;00m\n\u001b[0;32m   2338\u001b[0m \u001b[38;5;124;03m    \"\"\"\u001b[39;00m\n\u001b[1;32m-> 2339\u001b[0m     filesystem, where \u001b[38;5;241m=\u001b[39m \u001b[43m_resolve_filesystem_and_path\u001b[49m\u001b[43m(\u001b[49m\u001b[43mwhere\u001b[49m\u001b[43m,\u001b[49m\u001b[43m \u001b[49m\u001b[43mfilesystem\u001b[49m\u001b[43m)\u001b[49m\n\u001b[0;32m   2340\u001b[0m     file_ctx \u001b[38;5;241m=\u001b[39m nullcontext()\n\u001b[0;32m   2341\u001b[0m     \u001b[38;5;28;01mif\u001b[39;00m filesystem \u001b[38;5;129;01mis\u001b[39;00m \u001b[38;5;129;01mnot\u001b[39;00m \u001b[38;5;28;01mNone\u001b[39;00m:\n",
      "File \u001b[1;32mc:\\Users\\bonatz\\miniforge3\\envs\\coclico\\Lib\\site-packages\\pyarrow\\fs.py:179\u001b[0m, in \u001b[0;36m_resolve_filesystem_and_path\u001b[1;34m(path, filesystem, memory_map)\u001b[0m\n\u001b[0;32m    177\u001b[0m \u001b[38;5;28;01mif\u001b[39;00m \u001b[38;5;129;01mnot\u001b[39;00m exists_locally:\n\u001b[0;32m    178\u001b[0m     \u001b[38;5;28;01mtry\u001b[39;00m:\n\u001b[1;32m--> 179\u001b[0m         filesystem, path \u001b[38;5;241m=\u001b[39m \u001b[43mFileSystem\u001b[49m\u001b[38;5;241;43m.\u001b[39;49m\u001b[43mfrom_uri\u001b[49m\u001b[43m(\u001b[49m\u001b[43mpath\u001b[49m\u001b[43m)\u001b[49m\n\u001b[0;32m    180\u001b[0m     \u001b[38;5;28;01mexcept\u001b[39;00m \u001b[38;5;167;01mValueError\u001b[39;00m \u001b[38;5;28;01mas\u001b[39;00m e:\n\u001b[0;32m    181\u001b[0m         \u001b[38;5;66;03m# neither an URI nor a locally existing path, so assume that\u001b[39;00m\n\u001b[0;32m    182\u001b[0m         \u001b[38;5;66;03m# local path was given and propagate a nicer file not found error\u001b[39;00m\n\u001b[0;32m    183\u001b[0m         \u001b[38;5;66;03m# instead of a more confusing scheme parsing error\u001b[39;00m\n\u001b[0;32m    184\u001b[0m         \u001b[38;5;28;01mif\u001b[39;00m \u001b[38;5;124m\"\u001b[39m\u001b[38;5;124mempty scheme\u001b[39m\u001b[38;5;124m\"\u001b[39m \u001b[38;5;129;01mnot\u001b[39;00m \u001b[38;5;129;01min\u001b[39;00m \u001b[38;5;28mstr\u001b[39m(e) \\\n\u001b[0;32m    185\u001b[0m                 \u001b[38;5;129;01mand\u001b[39;00m \u001b[38;5;124m\"\u001b[39m\u001b[38;5;124mCannot parse URI\u001b[39m\u001b[38;5;124m\"\u001b[39m \u001b[38;5;129;01mnot\u001b[39;00m \u001b[38;5;129;01min\u001b[39;00m \u001b[38;5;28mstr\u001b[39m(e):\n",
      "File \u001b[1;32mc:\\Users\\bonatz\\miniforge3\\envs\\coclico\\Lib\\site-packages\\pyarrow\\_fs.pyx:477\u001b[0m, in \u001b[0;36mpyarrow._fs.FileSystem.from_uri\u001b[1;34m()\u001b[0m\n",
      "File \u001b[1;32mc:\\Users\\bonatz\\miniforge3\\envs\\coclico\\Lib\\site-packages\\pyarrow\\error.pxi:155\u001b[0m, in \u001b[0;36mpyarrow.lib.pyarrow_internal_check_status\u001b[1;34m()\u001b[0m\n",
      "File \u001b[1;32mc:\\Users\\bonatz\\miniforge3\\envs\\coclico\\Lib\\site-packages\\pyarrow\\error.pxi:92\u001b[0m, in \u001b[0;36mpyarrow.lib.check_status\u001b[1;34m()\u001b[0m\n",
      "\u001b[1;31mArrowInvalid\u001b[0m: Unrecognized filesystem type in URI: https://storage.googleapis.com/coclico-data-public/coclico/pp_stats/pop_fp_LAU_rel.parquet"
     ]
    }
   ],
   "source": [
    "## load pp statistics data\n",
    "catalog = pystac_client.Client.open(\n",
    "    \"https://storage.googleapis.com/coclico-data-public/coclico/coclico-stac-15jan25/catalog.json\"\n",
    ")\n",
    "\n",
    "collection = catalog.get_child(id = 'pp_stats')\n",
    "cloud_lau_path = collection.assets['geoparquet-stac-items'].href\n",
    "\n",
    "df = gpd.read_parquet(cloud_lau_path)"
   ]
  },
  {
   "cell_type": "code",
   "execution_count": null,
   "metadata": {},
   "outputs": [],
   "source": [
    "## choose parameters (this is what you would do in drop down of the platform)\n",
    "lau = 'DE_03352011' # GISCO_ID of Cuxhaven, Stadt\n",
    "dmap = 'UNDEFENDED_MAPS' # choose level of defence\n",
    "rp = '1000' # choose return period\n",
    "scenario = 'SSP585' # choose integrated scenario\n",
    "y = 2030 # choose the year"
   ]
  },
  {
   "cell_type": "code",
   "execution_count": null,
   "metadata": {},
   "outputs": [],
   "source": [
    "## Filter and rearrange dataframe for easier plotting\n",
    "# filter data for one LAU based on the unique GISCO_ID\n",
    "df_lau = df[df['GISCO_ID']==lau] \n",
    "\n",
    "# Extract column parameters\n",
    "columns_split = [col.split(\"\\\\\") for col in df_lau.columns]\n",
    "columns_df = pd.DataFrame(columns_split, columns=[\"map\", \"rp\", \"slr\", \"year\", \"pop\",\"statistic\"])\n",
    "\n",
    "# Add extracted columns to the original DataFrame for easier filtering\n",
    "df_tidy = df_lau.T.reset_index(drop=True)  # Transpose data for easier use\n",
    "df_tidy = df_tidy.rename(columns={df_tidy.columns[0]: \"exposed_population\"})\n",
    "df_tidy = pd.concat([columns_df, df_tidy], axis=1)\n",
    "\n",
    "# filter data for the parameter choices made earlier\n",
    "df_subset = df_tidy[df_tidy['map']==dmap]\n",
    "df_subset = df_subset[df_subset['rp']==rp]\n",
    "df_subset = df_subset[df_subset['year']!= '2150'] # neglect year 2150\n",
    "# filter for the relative exposed population, as that is what we want to visualize\n",
    "df_subset = df_subset[df_subset['statistic'] == 'rel_affected'] \n",
    "\n",
    "# Ensure year and exposed_population are numeric\n",
    "df_subset[\"year\"] = pd.to_numeric(df_subset[\"year\"], errors=\"coerce\")\n",
    "df_subset[\"exposed_population\"] = pd.to_numeric(df_subset[\"exposed_population\"], errors=\"coerce\")\n",
    "\n",
    "# Filter out rows with NaN in exposed_population\n",
    "df_subset = df_subset.dropna(subset=[\"exposed_population\"])"
   ]
  },
  {
   "cell_type": "code",
   "execution_count": null,
   "metadata": {},
   "outputs": [],
   "source": [
    "## Create line plot for the selected flood maps\n",
    "# Assigning colors for each integrated scenario\n",
    "color_dict = {\n",
    "    'SSP126': '#2F8FCE',\n",
    "    'SSP245': '#0B4572',\n",
    "    'None': '#EFC530',\n",
    "    'High_End': '#DF9239',\n",
    "    'SSP585': '#C7432B'\n",
    "}\n",
    "\n",
    "# Make a line plot of exposed population development over time for each integrated scenario\n",
    "plt.figure(figsize=(12, 6))\n",
    "sns.lineplot(\n",
    "    data=df_subset, \n",
    "    x=\"year\", \n",
    "    y=\"exposed_population\", \n",
    "    hue=\"slr\", \n",
    "    marker=\"o\",\n",
    "    palette=color_dict\n",
    ")\n",
    "\n",
    "# Highlight the specific data point, that has been selected in the drop-down and is now visible on the map\n",
    "highlight_point = df_subset[(df_subset[\"year\"] == y) & (df_subset[\"slr\"] == scenario)]\n",
    "if not highlight_point.empty:\n",
    "    plt.scatter(\n",
    "        highlight_point[\"year\"], \n",
    "        highlight_point[\"exposed_population\"], \n",
    "        color=\"black\", \n",
    "        s=100,  # Size of the marker\n",
    "        marker=\"x\", \n",
    "        linewidth=2,\n",
    "        zorder=5,\n",
    "        label=\"Visible in the map\"\n",
    "    )\n",
    "\n",
    "# Customize plot\n",
    "plt.title(f\"Exposed Population in {df_lau['LAU_NAME'].item()}\")\n",
    "plt.xlabel(\"Year\")\n",
    "plt.ylabel(\"Relative Exposed Population\")\n",
    "plt.legend(title=\"SLR Scenario\", bbox_to_anchor=(1.05, 1), loc='upper left')\n",
    "plt.grid()\n",
    "plt.tight_layout()\n",
    "years = [2010,2030,2050,2100]\n",
    "plt.xticks(ticks=years, labels=[str(year) for year in years])\n",
    "\n",
    "plt.show()"
   ]
  }
 ],
 "metadata": {
  "kernelspec": {
   "display_name": "Python 3",
   "language": "python",
   "name": "python3"
  },
  "language_info": {
   "codemirror_mode": {
    "name": "ipython",
    "version": 3
   },
   "file_extension": ".py",
   "mimetype": "text/x-python",
   "name": "python",
   "nbconvert_exporter": "python",
   "pygments_lexer": "ipython3",
   "version": "3.12.7"
  }
 },
 "nbformat": 4,
 "nbformat_minor": 2
}
