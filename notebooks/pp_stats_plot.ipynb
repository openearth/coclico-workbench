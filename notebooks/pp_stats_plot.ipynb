{
 "cells": [
  {
   "cell_type": "code",
   "execution_count": null,
   "metadata": {},
   "outputs": [],
   "source": [
    "## import packages\n",
    "import pystac_client\n",
    "import matplotlib.pyplot as plt\n",
    "import pandas as pd\n",
    "import seaborn as sns\n",
    "import geopandas as gpd\n",
    "import os"
   ]
  },
  {
   "cell_type": "code",
   "execution_count": null,
   "metadata": {},
   "outputs": [],
   "source": [
    "## load pp statistics data\n",
    "catalog = pystac_client.Client.open(\n",
    "    \"https://storage.googleapis.com/coclico-data-public/coclico/coclico-stac-15jan25/catalog.json\"\n",
    ")\n",
    "\n",
    "collection = catalog.get_child(id = 'pp_stats')\n",
    "cloud_lau_path = collection.assets['geoparquet-stac-items'].href\n",
    "\n",
    "df = gpd.read_parquet(cloud_lau_path)"
   ]
  },
  {
   "cell_type": "code",
   "execution_count": null,
   "metadata": {},
   "outputs": [],
   "source": [
    "## choose parameters (this is what you would do in drop down of the platform)\n",
    "lau = 'DE_03352011' # GISCO_ID of Cuxhaven, Stadt\n",
    "dmap = 'UNDEFENDED_MAPS' # choose level of defence\n",
    "rp = '1000' # choose return period\n",
    "scenario = 'SSP585' # choose integrated scenario\n",
    "y = 2030 # choose the year"
   ]
  },
  {
   "cell_type": "code",
   "execution_count": null,
   "metadata": {},
   "outputs": [],
   "source": [
    "## Filter and rearrange dataframe for easier plotting\n",
    "# filter data for one LAU based on the unique GISCO_ID\n",
    "df_lau = df[df['GISCO_ID']==lau] \n",
    "\n",
    "# Extract column parameters\n",
    "columns_split = [col.split(\"\\\\\") for col in df_lau.columns]\n",
    "columns_df = pd.DataFrame(columns_split, columns=[\"map\", \"rp\", \"slr\", \"year\", \"pop\",\"statistic\"])\n",
    "\n",
    "# Add extracted columns to the original DataFrame for easier filtering\n",
    "df_tidy = df_lau.T.reset_index(drop=True)  # Transpose data for easier use\n",
    "df_tidy = df_tidy.rename(columns={df_tidy.columns[0]: \"exposed_population\"})\n",
    "df_tidy = pd.concat([columns_df, df_tidy], axis=1)\n",
    "\n",
    "# filter data for the parameter choices made earlier\n",
    "df_subset = df_tidy[df_tidy['map']==dmap]\n",
    "df_subset = df_subset[df_subset['rp']==rp]\n",
    "df_subset = df_subset[df_subset['year']!= '2150'] # neglect year 2150\n",
    "# filter for the relative exposed population, as that is what we want to visualize\n",
    "df_subset = df_subset[df_subset['statistic'] == 'rel_affected'] \n",
    "\n",
    "# Ensure year and exposed_population are numeric\n",
    "df_subset[\"year\"] = pd.to_numeric(df_subset[\"year\"], errors=\"coerce\")\n",
    "df_subset[\"exposed_population\"] = pd.to_numeric(df_subset[\"exposed_population\"], errors=\"coerce\")\n",
    "\n",
    "# Filter out rows with NaN in exposed_population\n",
    "df_subset = df_subset.dropna(subset=[\"exposed_population\"])"
   ]
  },
  {
   "cell_type": "code",
   "execution_count": null,
   "metadata": {},
   "outputs": [],
   "source": [
    "## Create line plot for the selected flood maps\n",
    "# Assigning colors for each integrated scenario\n",
    "color_dict = {\n",
    "    'SSP126': '#2F8FCE',\n",
    "    'SSP245': '#0B4572',\n",
    "    'None': '#EFC530',\n",
    "    'High_End': '#DF9239',\n",
    "    'SSP585': '#C7432B'\n",
    "}\n",
    "\n",
    "# Make a line plot of exposed population development over time for each integrated scenario\n",
    "plt.figure(figsize=(12, 6))\n",
    "sns.lineplot(\n",
    "    data=df_subset, \n",
    "    x=\"year\", \n",
    "    y=\"exposed_population\", \n",
    "    hue=\"slr\", \n",
    "    marker=\"o\",\n",
    "    palette=color_dict\n",
    ")\n",
    "\n",
    "# Highlight the specific data point, that has been selected in the drop-down and is now visible on the map\n",
    "highlight_point = df_subset[(df_subset[\"year\"] == y) & (df_subset[\"slr\"] == scenario)]\n",
    "if not highlight_point.empty:\n",
    "    plt.scatter(\n",
    "        highlight_point[\"year\"], \n",
    "        highlight_point[\"exposed_population\"], \n",
    "        color=\"black\", \n",
    "        s=100,  # Size of the marker\n",
    "        marker=\"x\", \n",
    "        linewidth=2,\n",
    "        zorder=5,\n",
    "        label=\"Visible in the map\"\n",
    "    )\n",
    "\n",
    "# Customize plot\n",
    "plt.title(f\"Exposed Population in {df_lau['LAU_NAME'].item()}\")\n",
    "plt.xlabel(\"Year\")\n",
    "plt.ylabel(\"Relative Exposed Population\")\n",
    "plt.legend(title=\"SLR Scenario\", bbox_to_anchor=(1.05, 1), loc='upper left')\n",
    "plt.grid()\n",
    "plt.tight_layout()\n",
    "years = [2010,2030,2050,2100]\n",
    "plt.xticks(ticks=years, labels=[str(year) for year in years])\n",
    "\n",
    "plt.show()"
   ]
  }
 ],
 "metadata": {
  "kernelspec": {
   "display_name": "Python 3",
   "language": "python",
   "name": "python3"
  },
  "language_info": {
   "codemirror_mode": {
    "name": "ipython",
    "version": 3
   },
   "file_extension": ".py",
   "mimetype": "text/x-python",
   "name": "python",
   "nbconvert_exporter": "python",
   "pygments_lexer": "ipython3",
   "version": "3.12.7"
  }
 },
 "nbformat": 4,
 "nbformat_minor": 2
}
