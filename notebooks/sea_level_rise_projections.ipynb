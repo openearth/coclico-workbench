{
 "cells": [
  {
   "cell_type": "markdown",
   "id": "0",
   "metadata": {},
   "source": [
    "# Loading AR6 Sea Level Rise projections"
   ]
  },
  {
   "cell_type": "code",
   "execution_count": null,
   "id": "1",
   "metadata": {},
   "outputs": [],
   "source": [
    "from dotenv import load_dotenv\n",
    "\n",
    "load_dotenv()\n",
    "\n",
    "import os\n",
    "\n",
    "import fsspec\n",
    "import geopandas as gpd\n",
    "import hvplot.pandas\n",
    "import hvplot.xarray\n",
    "import numpy as np\n",
    "import odc.stac\n",
    "import pystac\n",
    "import rioxarray\n",
    "import shapely\n",
    "import stac_geoparquet\n",
    "import xarray as xr\n",
    "from ipyleaflet import Map, basemaps\n",
    "\n",
    "from coastpy.stac.utils import read_snapshot\n",
    "\n",
    "sas_token = os.getenv(\"AZURE_STORAGE_SAS_TOKEN\")\n",
    "storage_options = {\"account_name\": \"coclico\", \"sas_token\": sas_token}"
   ]
  },
  {
   "cell_type": "markdown",
   "id": "2",
   "metadata": {},
   "source": [
    "## Zoom to your area of interest"
   ]
  },
  {
   "cell_type": "code",
   "execution_count": null,
   "id": "3",
   "metadata": {},
   "outputs": [],
   "source": [
    "m = Map(basemap=basemaps.Esri.WorldImagery, scroll_wheel_zoom=True)\n",
    "m.center = m.center = (53.19, 4.9)\n",
    "m.zoom = 12\n",
    "m.layout.height = \"800px\"\n",
    "m"
   ]
  },
  {
   "cell_type": "code",
   "execution_count": null,
   "id": "4",
   "metadata": {},
   "outputs": [],
   "source": [
    "from coastpy.geo.utils import get_region_of_interest_from_map\n",
    "\n",
    "roi = get_region_of_interest_from_map(m, default_extent=(4.757, 53.108, 5.042, 53.272))\n",
    "west, south, east, north = list(roi.total_bounds)"
   ]
  },
  {
   "cell_type": "code",
   "execution_count": null,
   "id": "5",
   "metadata": {},
   "outputs": [],
   "source": [
    "import re\n",
    "\n",
    "import geopandas as gpd\n",
    "import pandas as pd\n",
    "\n",
    "catalog = pystac.Catalog.from_file(\n",
    "    \"https://coclico.blob.core.windows.net/stac/v1/catalog.json\"\n",
    ")\n",
    "collection = catalog.get_child(\"slp6\")\n",
    "snapshot = read_snapshot(collection)\n",
    "\n",
    "\n",
    "def preprocess_snapshot(df: gpd.GeoDataFrame) -> gpd.GeoDataFrame:\n",
    "    \"\"\"\n",
    "    Add 'ssp', 'slr_ens', and 'datetime' columns parsed from the 'id' column.\n",
    "    \"\"\"\n",
    "    pattern = r\"ssp=([^/]+)/slr_ens([^/]+)/(\\d{4})\\.tif\"\n",
    "\n",
    "    extracted = df[\"id\"].str.extract(pattern)\n",
    "    extracted.columns = [\"ssp\", \"slr_ens\", \"datetime\"]\n",
    "    extracted[\"datetime\"] = pd.to_datetime(extracted[\"datetime\"], format=\"%Y\")\n",
    "\n",
    "    for col in extracted.columns:\n",
    "        df[col] = extracted[col]\n",
    "\n",
    "    return df\n",
    "\n",
    "\n",
    "snapshot = preprocess_snapshot(snapshot)"
   ]
  },
  {
   "cell_type": "markdown",
   "id": "6",
   "metadata": {},
   "source": [
    "## Items for region of interest"
   ]
  },
  {
   "cell_type": "code",
   "execution_count": null,
   "id": "7",
   "metadata": {},
   "outputs": [],
   "source": [
    "items_roi = gpd.sjoin(snapshot, roi).drop(columns=[\"index_right\"])"
   ]
  },
  {
   "cell_type": "markdown",
   "id": "8",
   "metadata": {},
   "source": [
    "## Sea level rise projection structure\n",
    "\n",
    "There is one tif file per datetime, ssp and sea-level-rise ensemble. The unique values for each of these variables are: "
   ]
  },
  {
   "cell_type": "code",
   "execution_count": null,
   "id": "9",
   "metadata": {},
   "outputs": [],
   "source": [
    "print(items_roi[\"datetime\"].unique())"
   ]
  },
  {
   "cell_type": "code",
   "execution_count": null,
   "id": "10",
   "metadata": {},
   "outputs": [],
   "source": [
    "print(items_roi[\"slr_ens\"].unique())"
   ]
  },
  {
   "cell_type": "code",
   "execution_count": null,
   "id": "11",
   "metadata": {},
   "outputs": [],
   "source": [
    "print(items_roi[\"ssp\"].unique())"
   ]
  },
  {
   "cell_type": "markdown",
   "id": "12",
   "metadata": {},
   "source": [
    "## Select one item"
   ]
  },
  {
   "cell_type": "code",
   "execution_count": null,
   "id": "13",
   "metadata": {},
   "outputs": [],
   "source": [
    "date = \"2100-01-01 00:00:00\"\n",
    "ssp = \"2-45\"\n",
    "slr_ens = \"50.0\"\n",
    "\n",
    "item = items_roi[\n",
    "    (items_roi[\"datetime\"] == date)\n",
    "    & (items_roi[\"ssp\"] == ssp)\n",
    "    & (items_roi[\"slr_ens\"] == slr_ens)\n",
    "]\n",
    "\n",
    "print(item.shape)"
   ]
  },
  {
   "cell_type": "markdown",
   "id": "14",
   "metadata": {},
   "source": [
    "## Read this item\n",
    "\n",
    "This fails because the data is in a locked container or doesn't exist. "
   ]
  },
  {
   "cell_type": "code",
   "execution_count": null,
   "id": "15",
   "metadata": {},
   "outputs": [],
   "source": [
    "item_collection = stac_geoparquet.to_item_collection(item)\n",
    "odc.stac.load(item_collection)"
   ]
  }
 ],
 "metadata": {
  "kernelspec": {
   "display_name": "Python [conda env:coastal-full] *",
   "language": "python",
   "name": "conda-env-coastal-full-py"
  },
  "language_info": {
   "codemirror_mode": {
    "name": "ipython",
    "version": 3
   },
   "file_extension": ".py",
   "mimetype": "text/x-python",
   "name": "python",
   "nbconvert_exporter": "python",
   "pygments_lexer": "ipython3",
   "version": "3.12.9"
  }
 },
 "nbformat": 4,
 "nbformat_minor": 5
}
