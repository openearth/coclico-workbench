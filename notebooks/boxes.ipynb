{
 "cells": [
  {
   "cell_type": "markdown",
   "id": "0",
   "metadata": {},
   "source": [
    "# Global box system\n",
    "\n",
    "Create global box system following OSM slippy map tile definition. The box system can be used to run geospatial computations in parallel"
   ]
  },
  {
   "cell_type": "code",
   "execution_count": null,
   "id": "1",
   "metadata": {},
   "outputs": [],
   "source": [
    "import os\n",
    "import pathlib\n",
    "import sys\n",
    "\n",
    "# make coclico library importable by appending src from project root to path\n",
    "cwd = pathlib.Path().resolve()\n",
    "sys.path.append(os.path.join(os.path.dirname(cwd), \"src\"))"
   ]
  },
  {
   "cell_type": "markdown",
   "id": "2",
   "metadata": {},
   "source": [
    "## Generate a global box system \n",
    "\n",
    "This is just to demonstrate that by appending the ./src directory to path, we can now import \"source code\" from the coclico library. \n",
    "\n",
    "This global box system was taken from https://github.com/floriscalkoen/coastpy and is generated according to the OpenStreetMap slippy tilenames. These box systems are useful when the workload is spatially partitioned. "
   ]
  },
  {
   "cell_type": "code",
   "execution_count": null,
   "id": "3",
   "metadata": {},
   "outputs": [],
   "source": [
    "# this is just to demostrate that we can import coclico \"source code\"\n",
    "from coclico.utils.boxes import make_boxes\n",
    "\n",
    "# global box system\n",
    "boxes = make_boxes(zoom_level=7, output_crs=\"EPSG:4326\")\n",
    "print(boxes.shape)\n",
    "# natural earth low resolution to get approximately all European boxes (except Russia)\n",
    "world = gpd.read_file(gpd.datasets.get_path(\"naturalearth_lowres\"))\n",
    "eu = world.loc[(world[\"continent\"] == \"Europe\") & (world[\"name\"] != \"Russia\")]\n",
    "boxes = gpd.sjoin(boxes, eu)[boxes.columns]\n",
    "print(boxes.shape)\n",
    "boxes.explore()"
   ]
  }
 ],
 "metadata": {
  "kernelspec": {
   "display_name": "Python 3 (ipykernel)",
   "language": "python",
   "name": "python3"
  },
  "language_info": {
   "codemirror_mode": {
    "name": "ipython",
    "version": 3
   },
   "file_extension": ".py",
   "mimetype": "text/x-python",
   "name": "python",
   "nbconvert_exporter": "python",
   "pygments_lexer": "ipython3",
   "version": "3.10.6"
  },
  "vscode": {
   "interpreter": {
    "hash": "c0ebfe0da1198dfcf84fb64f221c7b7e35641f7728e9dc12fbc80e97aca2df12"
   }
  }
 },
 "nbformat": 4,
 "nbformat_minor": 5
}
